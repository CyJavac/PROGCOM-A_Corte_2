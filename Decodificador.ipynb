{
  "nbformat": 4,
  "nbformat_minor": 0,
  "metadata": {
    "colab": {
      "provenance": []
    },
    "kernelspec": {
      "name": "python3",
      "display_name": "Python 3"
    },
    "language_info": {
      "name": "python"
    }
  },
  "cells": [
    {
      "cell_type": "code",
      "execution_count": 1,
      "metadata": {
        "id": "lIolQpqeVKTd",
        "outputId": "3b4a7c38-74a7-4eb1-d10e-b181ae167342",
        "colab": {
          "base_uri": "https://localhost:8080/"
        }
      },
      "outputs": [
        {
          "output_type": "stream",
          "name": "stdout",
          "text": [
            "Escribe la palabra para decodificar: biri\n",
            "casa\n"
          ]
        }
      ],
      "source": [
        "\n",
        "vocal=[\"a\",\"e\",\"i\",\"o\",\"u\"]\n",
        "consonante=[\"b\",\"c\",\"d\",\"f\",\"g\",\"h\",\"j\",\"k\",\"l\",\"m\",\"n\",\"ñ\",\"p\",\"q\",\"r\",\"s\",\"t\",\"v\",\"w\",\"x\",\"y\",\"z\"]\n",
        "vocal_t=[\"á\",\"é\",\"í\",\"ó\",\"ú\"]\n",
        "\n",
        "n=input(\"Escribe la palabra para decodificar: \")\n",
        "n=n.lower()\n",
        "r=[]\n",
        "for i in range(len(n)):\n",
        "  if n[i] in vocal:\n",
        "    x=0\n",
        "    x=vocal.index(n[i])\n",
        "    x-=2\n",
        "    if x==5:\n",
        "      r.append(\"o\")\n",
        "    elif x==6:\n",
        "      r.append(\"u\")\n",
        "    else:\n",
        "      r.append(vocal[x])\n",
        "  elif n[i] in vocal_t:\n",
        "    x=0\n",
        "    x=vocal_t.index(n[i])\n",
        "    x-=2\n",
        "    if x==5:\n",
        "      r.append(\"ó\")\n",
        "    elif x==6:\n",
        "      r.append(\"ú\")\n",
        "    else:\n",
        "      r.append(vocal_t[x])\n",
        "  elif n[i] in consonante:\n",
        "    x=0\n",
        "    x=consonante.index(n[i])\n",
        "    x+=1\n",
        "    if x==22:\n",
        "        r.append(\"b\")\n",
        "    else:\n",
        "        r.append(consonante[x])\n",
        "  else:\n",
        "    r.append(n[i])\n",
        "frase=\"\".join(r)\n",
        "frase2=frase.split()\n",
        "frase2=frase2[::-1]\n",
        "frase2=\" \".join(frase2)\n",
        "print(frase2)"
      ]
    }
  ]
}