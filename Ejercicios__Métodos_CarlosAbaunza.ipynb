{
  "nbformat": 4,
  "nbformat_minor": 0,
  "metadata": {
    "colab": {
      "provenance": [],
      "collapsed_sections": []
    },
    "kernelspec": {
      "name": "python3",
      "display_name": "Python 3"
    },
    "language_info": {
      "name": "python"
    }
  },
  "cells": [
    {
      "cell_type": "markdown",
      "source": [
        "#Ejercicos de métodos"
      ],
      "metadata": {
        "id": "BUnDbumlm7Eu"
      }
    },
    {
      "cell_type": "code",
      "source": [
        "def agre():\n",
        "  num.append((int(input(\"Ingrese un número. \"))))"
      ],
      "metadata": {
        "id": "B9Qag8CevYPu"
      },
      "execution_count": 55,
      "outputs": []
    },
    {
      "cell_type": "markdown",
      "source": [
        "##1. El mayor de dos números."
      ],
      "metadata": {
        "id": "JMGT3WSBpSL_"
      }
    },
    {
      "cell_type": "code",
      "execution_count": 10,
      "metadata": {
        "id": "tj73bvVniTvg"
      },
      "outputs": [],
      "source": [
        "#Mayor de dos números\n",
        "\n",
        "def comp(a,b):\n",
        "  if a>b:\n",
        "    print(f\"{a} es el mayor\")\n",
        "  else:\n",
        "    print(b,\"es el mayor\")"
      ]
    },
    {
      "cell_type": "code",
      "source": [
        "comp(4,5)"
      ],
      "metadata": {
        "colab": {
          "base_uri": "https://localhost:8080/"
        },
        "id": "xz8c8ULWnX6O",
        "outputId": "ae1ee4f8-223b-48c0-da10-416cbac11389"
      },
      "execution_count": 11,
      "outputs": [
        {
          "output_type": "stream",
          "name": "stdout",
          "text": [
            "5 es el mayor\n"
          ]
        }
      ]
    },
    {
      "cell_type": "code",
      "source": [
        "print(comp(4,5))"
      ],
      "metadata": {
        "colab": {
          "base_uri": "https://localhost:8080/"
        },
        "id": "p1Q4zs_UnkfQ",
        "outputId": "80421cc9-d16d-47c1-bb90-5a4d610a69c5"
      },
      "execution_count": 4,
      "outputs": [
        {
          "output_type": "stream",
          "name": "stdout",
          "text": [
            "5\n"
          ]
        }
      ]
    },
    {
      "cell_type": "code",
      "source": [
        "def mayor(x,y,z):\n",
        "  comp(x,comp(y,z))"
      ],
      "metadata": {
        "id": "jXxQ05n3nrbX"
      },
      "execution_count": 12,
      "outputs": []
    },
    {
      "cell_type": "code",
      "source": [
        "print(mayor(4,5,6))"
      ],
      "metadata": {
        "colab": {
          "base_uri": "https://localhost:8080/",
          "height": 328
        },
        "id": "zvq0MJMeoEsH",
        "outputId": "e616bb08-606b-4a82-9318-a15a9613de28"
      },
      "execution_count": 13,
      "outputs": [
        {
          "output_type": "stream",
          "name": "stdout",
          "text": [
            "6 es el mayor\n"
          ]
        },
        {
          "output_type": "error",
          "ename": "TypeError",
          "evalue": "ignored",
          "traceback": [
            "\u001b[0;31m---------------------------------------------------------------------------\u001b[0m",
            "\u001b[0;31mTypeError\u001b[0m                                 Traceback (most recent call last)",
            "\u001b[0;32m<ipython-input-13-52547e86f0e6>\u001b[0m in \u001b[0;36m<module>\u001b[0;34m\u001b[0m\n\u001b[0;32m----> 1\u001b[0;31m \u001b[0mprint\u001b[0m\u001b[0;34m(\u001b[0m\u001b[0mmayor\u001b[0m\u001b[0;34m(\u001b[0m\u001b[0;36m4\u001b[0m\u001b[0;34m,\u001b[0m\u001b[0;36m5\u001b[0m\u001b[0;34m,\u001b[0m\u001b[0;36m6\u001b[0m\u001b[0;34m)\u001b[0m\u001b[0;34m)\u001b[0m\u001b[0;34m\u001b[0m\u001b[0;34m\u001b[0m\u001b[0m\n\u001b[0m",
            "\u001b[0;32m<ipython-input-12-f59768f5aef6>\u001b[0m in \u001b[0;36mmayor\u001b[0;34m(x, y, z)\u001b[0m\n\u001b[1;32m      1\u001b[0m \u001b[0;32mdef\u001b[0m \u001b[0mmayor\u001b[0m\u001b[0;34m(\u001b[0m\u001b[0mx\u001b[0m\u001b[0;34m,\u001b[0m\u001b[0my\u001b[0m\u001b[0;34m,\u001b[0m\u001b[0mz\u001b[0m\u001b[0;34m)\u001b[0m\u001b[0;34m:\u001b[0m\u001b[0;34m\u001b[0m\u001b[0;34m\u001b[0m\u001b[0m\n\u001b[0;32m----> 2\u001b[0;31m   \u001b[0mcomp\u001b[0m\u001b[0;34m(\u001b[0m\u001b[0mx\u001b[0m\u001b[0;34m,\u001b[0m\u001b[0mcomp\u001b[0m\u001b[0;34m(\u001b[0m\u001b[0my\u001b[0m\u001b[0;34m,\u001b[0m\u001b[0mz\u001b[0m\u001b[0;34m)\u001b[0m\u001b[0;34m)\u001b[0m\u001b[0;34m\u001b[0m\u001b[0;34m\u001b[0m\u001b[0m\n\u001b[0m",
            "\u001b[0;32m<ipython-input-10-90794c384517>\u001b[0m in \u001b[0;36mcomp\u001b[0;34m(a, b)\u001b[0m\n\u001b[1;32m      2\u001b[0m \u001b[0;34m\u001b[0m\u001b[0m\n\u001b[1;32m      3\u001b[0m \u001b[0;32mdef\u001b[0m \u001b[0mcomp\u001b[0m\u001b[0;34m(\u001b[0m\u001b[0ma\u001b[0m\u001b[0;34m,\u001b[0m\u001b[0mb\u001b[0m\u001b[0;34m)\u001b[0m\u001b[0;34m:\u001b[0m\u001b[0;34m\u001b[0m\u001b[0;34m\u001b[0m\u001b[0m\n\u001b[0;32m----> 4\u001b[0;31m   \u001b[0;32mif\u001b[0m \u001b[0ma\u001b[0m\u001b[0;34m>\u001b[0m\u001b[0mb\u001b[0m\u001b[0;34m:\u001b[0m\u001b[0;34m\u001b[0m\u001b[0;34m\u001b[0m\u001b[0m\n\u001b[0m\u001b[1;32m      5\u001b[0m     \u001b[0mprint\u001b[0m\u001b[0;34m(\u001b[0m\u001b[0;34mf\"{a} es el mayor\"\u001b[0m\u001b[0;34m)\u001b[0m\u001b[0;34m\u001b[0m\u001b[0;34m\u001b[0m\u001b[0m\n\u001b[1;32m      6\u001b[0m   \u001b[0;32melse\u001b[0m\u001b[0;34m:\u001b[0m\u001b[0;34m\u001b[0m\u001b[0;34m\u001b[0m\u001b[0m\n",
            "\u001b[0;31mTypeError\u001b[0m: '>' not supported between instances of 'int' and 'NoneType'"
          ]
        }
      ]
    },
    {
      "cell_type": "markdown",
      "source": [
        "##2. Determine el mayor de tres números (empleando la función anterior)."
      ],
      "metadata": {
        "id": "0D1_N1y0pWd3"
      }
    },
    {
      "cell_type": "code",
      "source": [],
      "metadata": {
        "id": "Yup11_VFpZYw"
      },
      "execution_count": null,
      "outputs": []
    },
    {
      "cell_type": "markdown",
      "source": [
        "##3. Sumar los números de una lista de 3 elementos. Ejemplo [3,4,5]. Salida: 12"
      ],
      "metadata": {
        "id": "ntWQj3u7ps6P"
      }
    },
    {
      "cell_type": "code",
      "source": [
        "n=0\n",
        "suma=0\n",
        "num=[]\n",
        "while True:\n",
        "  agre()\n",
        "  suma+=num[n]\n",
        "  n+=1\n",
        "  x=len(num)\n",
        "  if x==3:\n",
        "    break\n",
        "print(suma)"
      ],
      "metadata": {
        "colab": {
          "base_uri": "https://localhost:8080/"
        },
        "id": "LpF-eogfqFyH",
        "outputId": "9b18eff4-ea8b-4843-fb3f-4c02edf886f0"
      },
      "execution_count": 19,
      "outputs": [
        {
          "output_type": "stream",
          "name": "stdout",
          "text": [
            "Ingrese un número. 1\n",
            "Ingrese un número. 2\n",
            "Ingrese un número. 3\n",
            "6\n"
          ]
        }
      ]
    },
    {
      "cell_type": "markdown",
      "source": [
        "##4. Sumar los números de una lista de 4 elementos. Ejemplo [3,4,5,6]. Salida: 18\n"
      ],
      "metadata": {
        "id": "CdVMkRHnp2xn"
      }
    },
    {
      "cell_type": "code",
      "source": [
        "n=0\n",
        "suma=0\n",
        "num=[]\n",
        "while True:\n",
        "  agre()\n",
        "  suma+=num[n]\n",
        "  n+=1\n",
        "  x=len(num)\n",
        "  if x==4:\n",
        "    break\n",
        "print(suma)"
      ],
      "metadata": {
        "colab": {
          "base_uri": "https://localhost:8080/"
        },
        "id": "p1Rknhl3p4Cn",
        "outputId": "88ac1182-d5fd-4e89-d9e8-1fb7096e6d8d"
      },
      "execution_count": 23,
      "outputs": [
        {
          "output_type": "stream",
          "name": "stdout",
          "text": [
            "Ingrese un número. 3\n",
            "Ingrese un número. 4\n",
            "Ingrese un número. 5\n",
            "Ingrese un número. 6\n",
            "18\n"
          ]
        }
      ]
    },
    {
      "cell_type": "markdown",
      "source": [
        "##5. Sumar todos los números de una lista. Ejemplo: (8,5,3,1). Salida: 17\n"
      ],
      "metadata": {
        "id": "zHfE_mIfp4OA"
      }
    },
    {
      "cell_type": "code",
      "source": [
        "n=0\n",
        "suma=0\n",
        "num=[]\n",
        "tod=int(input(\"Ingrese la cantidad de números. \"))\n",
        "while True:\n",
        "  agre()\n",
        "  suma+=num[n]\n",
        "  n+=1\n",
        "  x=len(num)\n",
        "  if x==tod:\n",
        "    break\n",
        "print(suma)"
      ],
      "metadata": {
        "colab": {
          "base_uri": "https://localhost:8080/"
        },
        "id": "W-cmQd_ip6Fv",
        "outputId": "0b06abf4-168d-4e83-8b36-a918caaccdb8"
      },
      "execution_count": 28,
      "outputs": [
        {
          "output_type": "stream",
          "name": "stdout",
          "text": [
            "Ingrese la cantidad de números. 5\n",
            "Ingrese un número. 1\n",
            "Ingrese un número. 2\n",
            "Ingrese un número. 3\n",
            "Ingrese un número. 4\n",
            "Ingrese un número. 5\n",
            "15\n"
          ]
        }
      ]
    },
    {
      "cell_type": "markdown",
      "source": [
        "##6. Multiplicar los números de una lista de 3 elementos. Ejemplo [0,4,5]. Salida: 0\n"
      ],
      "metadata": {
        "id": "D_G-eJt5p6cn"
      }
    },
    {
      "cell_type": "code",
      "source": [
        "n=0\n",
        "mlt=1\n",
        "num=[]\n",
        "while True:\n",
        "  agre()\n",
        "  mlt=num[n]*mlt\n",
        "  n+=1\n",
        "  x=len(num)\n",
        "  if x==3:\n",
        "    break\n",
        "print(mlt)"
      ],
      "metadata": {
        "colab": {
          "base_uri": "https://localhost:8080/"
        },
        "id": "ZGPfofK1xZsX",
        "outputId": "a33647a8-efbf-4cbe-83a3-af4391a890ad"
      },
      "execution_count": 37,
      "outputs": [
        {
          "output_type": "stream",
          "name": "stdout",
          "text": [
            "Ingrese un número. 3\n",
            "Ingrese un número. 2\n",
            "Ingrese un número. 5\n",
            "30\n"
          ]
        }
      ]
    },
    {
      "cell_type": "markdown",
      "source": [
        "##7. Multiplicar los números de una lista de 4 elementos. Ejemplo [3,4,5,1]. Salida: 60\n"
      ],
      "metadata": {
        "id": "hH0nR1snp8Qn"
      }
    },
    {
      "cell_type": "code",
      "source": [
        "n=0\n",
        "mlt=1\n",
        "num=[]\n",
        "while True:\n",
        "  agre()\n",
        "  mlt=num[n]*mlt\n",
        "  n+=1\n",
        "  x=len(num)\n",
        "  if x==4:\n",
        "    break\n",
        "print(mlt)"
      ],
      "metadata": {
        "colab": {
          "base_uri": "https://localhost:8080/"
        },
        "id": "a1CeiBpip-yW",
        "outputId": "b2781866-370b-43fa-beca-8511433b72a7"
      },
      "execution_count": 39,
      "outputs": [
        {
          "output_type": "stream",
          "name": "stdout",
          "text": [
            "Ingrese un número. 3\n",
            "Ingrese un número. 4\n",
            "Ingrese un número. 5\n",
            "Ingrese un número. 1\n",
            "60\n"
          ]
        }
      ]
    },
    {
      "cell_type": "markdown",
      "source": [
        "##8. Multiplicar todos los números de una lista. Ejemplo: (1,2,3,-1). Salida: -6\n"
      ],
      "metadata": {
        "id": "T2mHABvKp_gX"
      }
    },
    {
      "cell_type": "code",
      "source": [
        "n=0\n",
        "mlt=1\n",
        "num=[]\n",
        "tod=int(input(\"Ingrese la cantidad de números. \"))\n",
        "while True:\n",
        "  agre()\n",
        "  mlt=num[n]*mlt\n",
        "  n+=1\n",
        "  x=len(num)\n",
        "  if x==tod:\n",
        "    break\n",
        "print(mlt)"
      ],
      "metadata": {
        "colab": {
          "base_uri": "https://localhost:8080/"
        },
        "id": "0BaICg4NqBRu",
        "outputId": "a956dfa3-f775-40e3-daea-ae7500490d5b"
      },
      "execution_count": 41,
      "outputs": [
        {
          "output_type": "stream",
          "name": "stdout",
          "text": [
            "Ingrese la cantidad de números. 4\n",
            "Ingrese un número. 1\n",
            "Ingrese un número. 2\n",
            "Ingrese un número. 3\n",
            "Ingrese un número. -1\n",
            "-6\n"
          ]
        }
      ]
    },
    {
      "cell_type": "markdown",
      "source": [
        "##9. Invierta un String. Ejemplo: ingresa Hola y retorna aloH\n"
      ],
      "metadata": {
        "id": "WDEiUlSgywbZ"
      }
    },
    {
      "cell_type": "code",
      "source": [
        "def inv():\n",
        "  list(strng)\n",
        "  x=len(strng)\n",
        "  n=0\n",
        "  while True:\n",
        "    n-=1\n",
        "    print(f\"{strng[n]}\",end=\"\\n\")\n",
        "    if n==int(-x):\n",
        "      break\n"
      ],
      "metadata": {
        "id": "vJTljcGHy1lI"
      },
      "execution_count": 91,
      "outputs": []
    },
    {
      "cell_type": "code",
      "source": [
        "strng=str(input(\"Ingrese una palabra: \"))\n",
        "inv()"
      ],
      "metadata": {
        "colab": {
          "base_uri": "https://localhost:8080/"
        },
        "id": "N-wwRnBA20-F",
        "outputId": "92ac3838-3742-44d7-9620-95cc09a12a42"
      },
      "execution_count": 92,
      "outputs": [
        {
          "output_type": "stream",
          "name": "stdout",
          "text": [
            "Ingrese una palabra: Hola\n",
            "a\n",
            "l\n",
            "o\n",
            "H\n"
          ]
        }
      ]
    },
    {
      "cell_type": "markdown",
      "source": [
        "##10. Calcular el factorial de un número ╰（‵□′）╯"
      ],
      "metadata": {
        "id": "8l_T8kn1y10Y"
      }
    },
    {
      "cell_type": "code",
      "source": [
        "def fact(m):\n",
        "  mlt=1\n",
        "  \n",
        "  for i in range(1,m+1):\n",
        "    mlt=mlt*i\n",
        "  return mlt"
      ],
      "metadata": {
        "id": "BUcjhoYxy4BY"
      },
      "execution_count": 44,
      "outputs": []
    },
    {
      "cell_type": "code",
      "source": [
        "n=int(input(\"Ingrese el número para hallar el factorial: \"))\n",
        "k=fact(n)\n",
        "k"
      ],
      "metadata": {
        "colab": {
          "base_uri": "https://localhost:8080/"
        },
        "id": "1ZCborJv00bV",
        "outputId": "cd2961a4-075a-44eb-9cd3-3d521228ca4d"
      },
      "execution_count": 48,
      "outputs": [
        {
          "name": "stdout",
          "output_type": "stream",
          "text": [
            "Ingrese el número para hallar el factorial: 4\n"
          ]
        },
        {
          "output_type": "execute_result",
          "data": {
            "text/plain": [
              "24"
            ]
          },
          "metadata": {},
          "execution_count": 48
        }
      ]
    },
    {
      "cell_type": "markdown",
      "source": [
        "##11. Si un número está dentro de un rango.\n"
      ],
      "metadata": {
        "id": "gUIkAyKsy4No"
      }
    },
    {
      "cell_type": "code",
      "source": [
        "x=int(10)\n",
        "if x in range(1,10):\n",
        "  print(\"Sí\")"
      ],
      "metadata": {
        "id": "_ox527z6y5iQ"
      },
      "execution_count": 110,
      "outputs": []
    },
    {
      "cell_type": "markdown",
      "source": [
        "##12. Capture el número de mayúsculas y minúsculas en una oración.\n",
        "\n"
      ],
      "metadata": {
        "id": "FVu7GYO4y6yH"
      }
    },
    {
      "cell_type": "code",
      "source": [
        "def doce():\n",
        "  "
      ],
      "metadata": {
        "id": "3AUAUKzL8qny"
      },
      "execution_count": null,
      "outputs": []
    },
    {
      "cell_type": "code",
      "source": [
        "may=\"ABCDEFGHIJKLMNÑOPQRSTUVWXYZ\"\n",
        "str(list(may))\n",
        "min=\"abcdefghijklmnñopqrstuvwxyz\"\n",
        "str(list(min))\n",
        "\n",
        "may[]*\n",
        "print(list(may*))\n",
        "\n",
        "\n",
        "pal=input(\"Ingrese una oración: \")\n",
        "list(pal)\n",
        "while True:\n",
        "  if pal[:] in may[:]:\n",
        "    a+=1\n",
        "\n"
      ],
      "metadata": {
        "colab": {
          "base_uri": "https://localhost:8080/",
          "height": 130
        },
        "id": "xs8TjrsUy77_",
        "outputId": "7343ae02-996a-41f7-fe5b-55af8c796e1a"
      },
      "execution_count": 54,
      "outputs": [
        {
          "output_type": "error",
          "ename": "SyntaxError",
          "evalue": "ignored",
          "traceback": [
            "\u001b[0;36m  File \u001b[0;32m\"<ipython-input-54-8e1fee0983ed>\"\u001b[0;36m, line \u001b[0;32m6\u001b[0m\n\u001b[0;31m    may[]*\u001b[0m\n\u001b[0m        ^\u001b[0m\n\u001b[0;31mSyntaxError\u001b[0m\u001b[0;31m:\u001b[0m invalid syntax\n"
          ]
        }
      ]
    },
    {
      "cell_type": "markdown",
      "source": [
        "##13. El ejercicio anterior, pero almacene los resultados en un diccionario.\n"
      ],
      "metadata": {
        "id": "kQg0udu5y9w4"
      }
    },
    {
      "cell_type": "code",
      "source": [],
      "metadata": {
        "id": "sPuf50zqzCKf"
      },
      "execution_count": null,
      "outputs": []
    },
    {
      "cell_type": "markdown",
      "source": [
        "##14. Reciba una lista y retorne sólo los elementos pares\n"
      ],
      "metadata": {
        "id": "16aqBjR9y_a4"
      }
    },
    {
      "cell_type": "code",
      "source": [],
      "metadata": {
        "id": "NfFEP5mBzGEn"
      },
      "execution_count": null,
      "outputs": []
    },
    {
      "cell_type": "markdown",
      "source": [
        "##15. Reciba una lista y retorne sólo los elementos de posición impar\n"
      ],
      "metadata": {
        "id": "wA1SAcfDzCpn"
      }
    },
    {
      "cell_type": "code",
      "source": [],
      "metadata": {
        "id": "ap1o1hvJzI7n"
      },
      "execution_count": null,
      "outputs": []
    },
    {
      "cell_type": "markdown",
      "source": [
        "##16. Recibir un número y decir si es perfecto o no. Ejemplo: 6 es perfecto, porque la suma de sus divisores es 6 (1+2+3)"
      ],
      "metadata": {
        "id": "VAMweOKBzG1Y"
      }
    },
    {
      "cell_type": "code",
      "source": [],
      "metadata": {
        "id": "JmTjONBOzJmn"
      },
      "execution_count": null,
      "outputs": []
    }
  ]
}