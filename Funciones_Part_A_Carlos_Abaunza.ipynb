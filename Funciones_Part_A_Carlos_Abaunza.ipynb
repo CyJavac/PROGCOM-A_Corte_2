{
  "nbformat": 4,
  "nbformat_minor": 0,
  "metadata": {
    "colab": {
      "provenance": [],
      "collapsed_sections": [
        "DqKyt2hy33u_",
        "2bq_ICFKAyCM",
        "2q8ZWxcrA5R0"
      ]
    },
    "kernelspec": {
      "name": "python3",
      "display_name": "Python 3"
    },
    "language_info": {
      "name": "python"
    }
  },
  "cells": [
    {
      "cell_type": "markdown",
      "source": [
        "#Funciones\n",
        "    def (nombre) (parámetros o argumentos):\n",
        "    Contenido"
      ],
      "metadata": {
        "id": "tlgGwu7D0Gwt"
      }
    },
    {
      "cell_type": "markdown",
      "source": [
        "#Tipos de funciones"
      ],
      "metadata": {
        "id": "kK6SgHU60_Db"
      }
    },
    {
      "cell_type": "markdown",
      "source": [
        "#1.   Sin parámetros, sin retorno.\n",
        "```\n",
        "def manuel():\n",
        "  print(\"Tome sus 5\")\n",
        "```\n"
      ],
      "metadata": {
        "id": "DqKyt2hy33u_"
      }
    },
    {
      "cell_type": "code",
      "execution_count": 2,
      "metadata": {
        "id": "iqvxi_5twAgQ"
      },
      "outputs": [],
      "source": [
        "def salude():\n",
        "  print(\"Saludar\")\n",
        "  print(\"Es de crack\")"
      ]
    },
    {
      "cell_type": "code",
      "source": [
        "salude()"
      ],
      "metadata": {
        "colab": {
          "base_uri": "https://localhost:8080/"
        },
        "id": "tqQI0dRV4uaY",
        "outputId": "23caa9f1-6e04-4e81-8cb7-4ac86c2c7814"
      },
      "execution_count": 3,
      "outputs": [
        {
          "output_type": "stream",
          "name": "stdout",
          "text": [
            "Saludar\n",
            "Es de crack\n"
          ]
        }
      ]
    },
    {
      "cell_type": "markdown",
      "source": [
        "#2.   Sin parámetros, con retorno.\n",
        "```\n",
        "def nicolas():\n",
        "  print(\"Hola Nicolás)\n",
        "  a=5\n",
        "  return a\n",
        "```"
      ],
      "metadata": {
        "id": "_bLorKHD4s7Q"
      }
    },
    {
      "cell_type": "markdown",
      "source": [
        "#3. Con parámetros, sin retorno.\n",
        "```\n",
        "def holitas(a,\"b\", x=False):\n",
        "  int a\n",
        "  b=string\n",
        "  x=boolean\n",
        "  print(\"Hola Nicolás)\n",
        "  \n",
        "  a=5\n",
        "```"
      ],
      "metadata": {
        "id": "LtLg3Sc-44tu"
      }
    },
    {
      "cell_type": "markdown",
      "source": [
        "#4. Con parámetros, con retorno.\n",
        "```\n",
        "def holitas(a,\"b\", x=False):\n",
        "  int a\n",
        "  b=string\n",
        "  x=boolean\n",
        "  print(\"Hola Nicolás)\n",
        "  \n",
        "  a=5\n",
        "\n",
        "  return\n",
        "```"
      ],
      "metadata": {
        "id": "ygNawGF34_lr"
      }
    },
    {
      "cell_type": "markdown",
      "source": [
        "#Pruebas"
      ],
      "metadata": {
        "id": "2bq_ICFKAyCM"
      }
    },
    {
      "cell_type": "code",
      "source": [
        "a=int(input(\"Ingrese un número \"))\n",
        "b=int(input(\"Ingrese un número \"))\n",
        "c=int(input(\"Ingrese un número \"))\n",
        "\n",
        "if a!=b and a!=c and b!=c :\n",
        "  if a>b and a>c: # a es mayor\n",
        "    if b>c:\n",
        "      print(a,\"es el valor mayor\")\n",
        "      print(b,\"es el valor medio\")\n",
        "      print(c,\"es el valor menor\")\n",
        "    else:\n",
        "      print(a,\"es el valor mayor\")\n",
        "      print(c,\"es el valor medio\")\n",
        "      print(b,\"es el valor menor\")\n",
        "  elif b>a and b>c: # b es mayor\n",
        "    if a>c:\n",
        "      print(b,\"es el valor mayor\")\n",
        "      print(a,\"es el valor medio\")\n",
        "      print(c,\"es el valor menor\")\n",
        "    else:\n",
        "      print(b,\"es el valor mayor\")\n",
        "      print(c,\"es el valor medio\")\n",
        "      print(a,\"es el valor menor\")\n",
        "  elif c>a and c>b: # c es mayor\n",
        "    if a>b:\n",
        "      print(c,\"es el valor mayor\")\n",
        "      print(a,\"es el valor medio\")\n",
        "      print(b,\"es el valor menor\")\n",
        "    else:\n",
        "      print(c,\"es el valor mayor\")\n",
        "      print(b,\"es el valor medio\")\n",
        "      print(a,\"es el valor menor\")\n",
        "\n",
        "else: # datos iguales\n",
        "  print(\"No se puede hacer el cálculo\")\n"
      ],
      "metadata": {
        "colab": {
          "base_uri": "https://localhost:8080/"
        },
        "id": "Ye6WwEiN5F2c",
        "outputId": "f74a4893-c82c-45c2-d7ea-e1cb789be960"
      },
      "execution_count": 5,
      "outputs": [
        {
          "output_type": "stream",
          "name": "stdout",
          "text": [
            "Ingrese un número 7\n",
            "Ingrese un número 8\n",
            "Ingrese un número 9\n",
            "9 es el valor mayor\n",
            "8 es el valor medio\n",
            "7 es el valor menor\n"
          ]
        }
      ]
    },
    {
      "cell_type": "code",
      "source": [
        "def imprimir(a,b,c): # función CON parámetros con retorno\n",
        "  print(a,\"es el valor mayor\")\n",
        "  print(b,\"es el valor medio\")\n",
        "  print(c,\"es el valor menor\")"
      ],
      "metadata": {
        "id": "xFNpqN4-9DHL"
      },
      "execution_count": 3,
      "outputs": []
    },
    {
      "cell_type": "code",
      "source": [
        "a=int(input(\"Ingrese un número \"))\n",
        "b=int(input(\"Ingrese un número \"))\n",
        "c=int(input(\"Ingrese un número \"))\n",
        "\n",
        "if a!=b and a!=c and b!=c :\n",
        "  if a>b and a>c: # a es mayor\n",
        "    if b>c:\n",
        "      imprimir(a,b,c)\n",
        "    else:\n",
        "      imprimir(a,c,b)\n",
        "  elif b>a and b>c: # b es mayor\n",
        "    if a>c:\n",
        "      imprimir(b,a,c)\n",
        "    else:\n",
        "      imprimir(b,c,a)\n",
        "  elif c>a and c>b: # c es mayor\n",
        "    if a>b:\n",
        "      imprimir(c,a,b)\n",
        "    else:\n",
        "      imprimir(c,b,a)\n",
        "\n",
        "else: # datos iguales\n",
        "  print(\"No se puede hacer el cálculo\")"
      ],
      "metadata": {
        "colab": {
          "base_uri": "https://localhost:8080/"
        },
        "id": "R2kooSnT7qqK",
        "outputId": "616f3f82-0ceb-410b-fef8-20ee8b84353b"
      },
      "execution_count": 4,
      "outputs": [
        {
          "output_type": "stream",
          "name": "stdout",
          "text": [
            "Ingrese un número 1\n",
            "Ingrese un número 2\n",
            "Ingrese un número 3\n",
            "3 es el valor mayor\n",
            "2 es el valor medio\n",
            "1 es el valor menor\n"
          ]
        }
      ]
    },
    {
      "cell_type": "markdown",
      "source": [
        "#+ pruebas"
      ],
      "metadata": {
        "id": "2q8ZWxcrA5R0"
      }
    },
    {
      "cell_type": "code",
      "source": [
        "def imprimir(a,b,c): # función CON parámetros con retorno\n",
        "  print(a,\"es el valor mayor\")\n",
        "  print(b,\"es el valor medio\")\n",
        "  print(c,\"es el valor menor\")\n"
      ],
      "metadata": {
        "id": "rtNx2hpfA8Qq"
      },
      "execution_count": 1,
      "outputs": []
    },
    {
      "cell_type": "code",
      "source": [
        "def comparar(a,b,c):\n",
        "  if a!=b and a!=c and b!=c :\n",
        "    if a>b and a>c: # a es mayor\n",
        "      if b>c:\n",
        "        imprimir(a,b,c)\n",
        "      else:\n",
        "        imprimir(a,c,b)\n",
        "    elif b>a and b>c: # b es mayor\n",
        "      if a>c:\n",
        "        imprimir(b,a,c)\n",
        "      else:\n",
        "        imprimir(b,c,a)\n",
        "    elif c>a and c>b: # c es mayor\n",
        "      if a>b:\n",
        "        imprimir(c,a,b)\n",
        "      else:\n",
        "        imprimir(c,b,a)\n",
        "\n",
        "  else: # datos iguales\n",
        "    print(\"No se puede hacer el cálculo\")"
      ],
      "metadata": {
        "id": "uUXQUSNoBBEl"
      },
      "execution_count": 2,
      "outputs": []
    },
    {
      "cell_type": "code",
      "source": [
        "a=int(input(\"Ingrese un número \"))\n",
        "b=int(input(\"Ingrese un número \"))\n",
        "c=int(input(\"Ingrese un número \"))\n",
        "\n",
        "comparar(a,b,c) # No importa el orden de las variable xq son globales"
      ],
      "metadata": {
        "colab": {
          "base_uri": "https://localhost:8080/"
        },
        "id": "nHj83aYxBtXy",
        "outputId": "ef2c341f-8e57-470b-8bbb-72cfaeb7324d"
      },
      "execution_count": 3,
      "outputs": [
        {
          "output_type": "stream",
          "name": "stdout",
          "text": [
            "Ingrese un número 6\n",
            "Ingrese un número 82\n",
            "Ingrese un número 34\n",
            "82 es el valor mayor\n",
            "34 es el valor medio\n",
            "6 es el valor menor\n"
          ]
        }
      ]
    },
    {
      "cell_type": "markdown",
      "source": [
        "#Ejercicio\n",
        "##Si una variable que entra es vocal, consonante o número"
      ],
      "metadata": {
        "id": "MSFAVaPIEyNm"
      }
    },
    {
      "cell_type": "code",
      "source": [
        "def dato():\n",
        "  if dat.upper() in v:\n",
        "    print(dat,\"es una vocal\")\n",
        "  elif dat.isdigit():\n",
        "    print(dat,\"es un número\")\n",
        "  elif dat.upper() in c:\n",
        "    print(dat,\"es una consonante\")"
      ],
      "metadata": {
        "id": "7i4cQ8_0EsDO"
      },
      "execution_count": 28,
      "outputs": []
    },
    {
      "cell_type": "code",
      "source": [
        "v=[\"A\",\"E\",\"I\",\"O\",\"U\"]\n",
        "c=[\"B\",\"C\",\"D\",\"F\",\"G\",\"H\",\"J\",\"K\",\"L\",\"M\",\"N\",\"Ñ\",\"P\",\"Q\",\"R\",\"S\",\"T\",\"V\",\"W\",\"X\",\"Y\",\"Z\"]\n",
        "\n",
        "dat=input(\"Ingrese un símbolo \")\n",
        "dato()"
      ],
      "metadata": {
        "colab": {
          "base_uri": "https://localhost:8080/"
        },
        "id": "IUuVHVEBE96v",
        "outputId": "cdc4af99-3c7e-40af-bffc-739f41ac50e2"
      },
      "execution_count": 29,
      "outputs": [
        {
          "output_type": "stream",
          "name": "stdout",
          "text": [
            "Ingrese un símbolo t\n",
            "t es una consonante\n"
          ]
        }
      ]
    },
    {
      "cell_type": "code",
      "source": [
        "def dato():\n",
        "  if dat.upper() in v:\n",
        "    print(dat,\"es una vocal\")\n",
        "  elif dat.isdigit():\n",
        "    print(dat,\"es un número\")\n",
        "  elif dat.isascii():\n",
        "    print(dat,\"es una consonante\")"
      ],
      "metadata": {
        "id": "jUOMLDSgHu2c"
      },
      "execution_count": null,
      "outputs": []
    },
    {
      "cell_type": "code",
      "source": [
        "from string import ascii_letters\n",
        "from re import ASCII\n",
        "ascii_letters\n",
        "\n",
        "print(ascii)\n"
      ],
      "metadata": {
        "id": "jCreEesaH46k"
      },
      "execution_count": null,
      "outputs": []
    }
  ]
}