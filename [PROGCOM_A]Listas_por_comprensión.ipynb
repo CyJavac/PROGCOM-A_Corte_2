{
  "nbformat": 4,
  "nbformat_minor": 0,
  "metadata": {
    "colab": {
      "provenance": [],
      "collapsed_sections": []
    },
    "kernelspec": {
      "name": "python3",
      "display_name": "Python 3"
    },
    "language_info": {
      "name": "python"
    }
  },
  "cells": [
    {
      "cell_type": "markdown",
      "source": [
        "\n",
        "\n",
        "sintaxis: newList = [expresión(elemento) for elemento n in oldList if condición]"
      ],
      "metadata": {
        "id": "Uq6G8J3d_P3a"
      }
    },
    {
      "cell_type": "code",
      "execution_count": null,
      "metadata": {
        "colab": {
          "base_uri": "https://localhost:8080/"
        },
        "id": "EAwlr8tU-2cq",
        "outputId": "51b1c38c-8652-4d07-a1f9-5b03c1b6f058"
      },
      "outputs": [
        {
          "output_type": "stream",
          "name": "stdout",
          "text": [
            "[2, 4, 6, 8, 10, 12, 14, 16]\n"
          ]
        }
      ],
      "source": [
        "números=[n*2 for n in range(1,9)]\n",
        "print(números)"
      ]
    },
    {
      "cell_type": "markdown",
      "source": [
        "Ventajas\n",
        "\n",
        "Mas eficiente en tiempo y espacio que los bucles.\n",
        "\n",
        "Requiere menos líneas de código.\n",
        "\n",
        "Transforma una declaración iteratica en una fórmula."
      ],
      "metadata": {
        "id": "dWNHjqrq_3F5"
      }
    },
    {
      "cell_type": "markdown",
      "source": [
        "Transforma una declaración iterativa en una fórmula."
      ],
      "metadata": {
        "id": "mDKWTz2GAb7v"
      }
    },
    {
      "cell_type": "code",
      "source": [
        "cadenas=[\"*\" * n for n in range (1,6)]\n",
        "print(cadenas)"
      ],
      "metadata": {
        "colab": {
          "base_uri": "https://localhost:8080/"
        },
        "id": "sG2I3QbeAggs",
        "outputId": "8060337d-fc20-4553-bebf-321acf8254f7"
      },
      "execution_count": null,
      "outputs": [
        {
          "output_type": "stream",
          "name": "stdout",
          "text": [
            "['*', '**', '***', '****', '*****']\n"
          ]
        }
      ]
    },
    {
      "cell_type": "code",
      "source": [
        "número=[2,5,6,9,10]\n",
        "cuadrados=[n**2 for n in número]\n",
        "print(cuadrados)"
      ],
      "metadata": {
        "colab": {
          "base_uri": "https://localhost:8080/"
        },
        "id": "xbxJixrqAorF",
        "outputId": "599f22f5-9ad2-4ba3-c4d7-9f40b728178b"
      },
      "execution_count": null,
      "outputs": [
        {
          "output_type": "execute_result",
          "data": {
            "text/plain": [
              "[4, 25, 36, 81, 100]"
            ]
          },
          "metadata": {},
          "execution_count": 5
        }
      ]
    },
    {
      "cell_type": "code",
      "source": [
        "for i in range (0,5):\n",
        "  print(cuadrados[i],end=\"\\n\")"
      ],
      "metadata": {
        "colab": {
          "base_uri": "https://localhost:8080/"
        },
        "id": "FSjX1ZwBBJN0",
        "outputId": "7c004939-e435-4da2-f8b1-d5ddafcb1de6"
      },
      "execution_count": null,
      "outputs": [
        {
          "output_type": "stream",
          "name": "stdout",
          "text": [
            "4\n",
            "25\n",
            "36\n",
            "81\n",
            "100\n"
          ]
        }
      ]
    },
    {
      "cell_type": "code",
      "source": [
        "for i in range (0,5):\n",
        "  print(cadenas[i],end=\"\\n\")"
      ],
      "metadata": {
        "colab": {
          "base_uri": "https://localhost:8080/"
        },
        "id": "b7q3Fzp1B-UJ",
        "outputId": "430a75eb-a6ea-411f-c09a-be5561c0c96c"
      },
      "execution_count": null,
      "outputs": [
        {
          "output_type": "stream",
          "name": "stdout",
          "text": [
            "*\n",
            "**\n",
            "***\n",
            "****\n",
            "*****\n"
          ]
        }
      ]
    },
    {
      "cell_type": "code",
      "source": [
        "#Ejercicio de samuel\n",
        "x=input(\"Ingrese la palabra que desee: \")\n",
        "lista=[n for n in x]\n",
        "print(*lista)"
      ],
      "metadata": {
        "colab": {
          "base_uri": "https://localhost:8080/"
        },
        "id": "tZAKrVNBCRXQ",
        "outputId": "f1dc0975-1422-48f0-9826-7d1be3858fd8"
      },
      "execution_count": null,
      "outputs": [
        {
          "output_type": "stream",
          "name": "stdout",
          "text": [
            "Ingrese la palabra que desee: hola\n",
            "h o l a\n"
          ]
        }
      ]
    },
    {
      "cell_type": "code",
      "source": [
        "#Ejercicio de Daniel Amado\n",
        "\n",
        "lista1=[2,7,10,9,8]\n",
        "lista2=[elementos**2 for elementos in lista1 if elementos%2==0] #Potencia la lista1 al cuadrado e imprime solo los números pares.\n",
        "print(\"Nueva lista: \",lista2)"
      ],
      "metadata": {
        "colab": {
          "base_uri": "https://localhost:8080/"
        },
        "id": "xQhYsEKnDI63",
        "outputId": "ce451f89-fd2f-409d-d0e8-8ff0993cf2dc"
      },
      "execution_count": null,
      "outputs": [
        {
          "output_type": "stream",
          "name": "stdout",
          "text": [
            "Nueva lista:  [4, 100, 64]\n"
          ]
        }
      ]
    },
    {
      "cell_type": "code",
      "source": [
        "#Ejercicio Iván\n",
        "import random\n",
        "capitan= [random.randrange(1,30) for i in range(9)] #.randrange: Rango donde se va a generar la lista\n",
        "print(\"Imprimir números aleatorios de la lista: \", str(capitan))"
      ],
      "metadata": {
        "colab": {
          "base_uri": "https://localhost:8080/"
        },
        "id": "toujufifD-_n",
        "outputId": "34482fc3-ea8a-442a-a260-0c996907df06"
      },
      "execution_count": null,
      "outputs": [
        {
          "output_type": "stream",
          "name": "stdout",
          "text": [
            "Imprimir números aleatorios de la lista:  [3, 15, 20, 6, 3, 24, 2, 5, 29]\n"
          ]
        }
      ]
    },
    {
      "cell_type": "code",
      "source": [
        "#Ejercico de Juan Pablo\n",
        "precios=[]\n",
        "print(\"Ingrese los números a los que quieres hacer un descuento\")\n",
        "det=True\n",
        "while det:\n",
        "  num=int(input(\"Si no desea agregar mas números, digite '0' \"))\n",
        "  precios.append(num)\n",
        "  det=False if num==0 else num>0\n",
        "des=float(input(\"Ingrese porcentaje del descuento (sin '%') \"))\n",
        "presdes=[precio*des/100 for precio in precios]\n",
        "presdes.pop(-1)  #.pop para no tomar un valor determinado de una lista\n",
        "\n",
        "print(\"Valor a restar a cada precio: \",presdes)"
      ],
      "metadata": {
        "colab": {
          "base_uri": "https://localhost:8080/"
        },
        "id": "qgoqZlbgEcZF",
        "outputId": "ebb2495d-4e4c-4464-b51a-90f8e0f9c04c"
      },
      "execution_count": null,
      "outputs": [
        {
          "output_type": "stream",
          "name": "stdout",
          "text": [
            "Ingrese los números a los que quieres hacer un descuento\n",
            "Si no desea agregar mas números, digite '0'32\n",
            "Si no desea agregar mas números, digite '0'67\n",
            "Si no desea agregar mas números, digite '0'100\n",
            "Si no desea agregar mas números, digite '0'0\n",
            "Ingrese porcentaje del descuento (sin '%') 50\n",
            "Valor a restar a cada precio:  [16.0, 33.5, 50.0]\n"
          ]
        }
      ]
    },
    {
      "cell_type": "markdown",
      "source": [
        "#Cristian"
      ],
      "metadata": {
        "id": "xivxnYg2OY_C"
      }
    },
    {
      "cell_type": "code",
      "source": [
        "#Ejercicio de Cristian\n",
        "\n",
        "num = []\n",
        "for i in range (6):\n",
        "  num.append(int(input(\"Introduce el número ganador \")))\n",
        "num.sort()\n",
        "print(\"Los números ganadores son: \", str(num))"
      ],
      "metadata": {
        "colab": {
          "base_uri": "https://localhost:8080/"
        },
        "id": "35HbRw_GHjZ4",
        "outputId": "b158d527-f0a5-4d5e-ae89-f9d93593c6ca"
      },
      "execution_count": null,
      "outputs": [
        {
          "output_type": "stream",
          "name": "stdout",
          "text": [
            "Introduce el número ganador 5\n",
            "Introduce el número ganador 9\n",
            "Introduce el número ganador 10\n",
            "Introduce el número ganador 2\n",
            "Introduce el número ganador 37\n",
            "Introduce el número ganador 85\n",
            "Los números ganadores son:  [2, 5, 9, 10, 37, 85]\n"
          ]
        }
      ]
    },
    {
      "cell_type": "markdown",
      "source": [
        "#Julio"
      ],
      "metadata": {
        "id": "eSa_BPRLOaYh"
      }
    },
    {
      "cell_type": "code",
      "source": [
        "n=int(input(\"Ingrese cantidad de palabras. \"))\n",
        "lista=[]\n",
        "lista1=[]\n",
        "for i in range(n):\n",
        "  l=input(\"Ingrese palabra. \")\n",
        "  if l.isupper():lista.append(l)\n",
        "  if l.islower():lista1.append(l)\n",
        "\n",
        "print(lista)\n",
        "lista1"
      ],
      "metadata": {
        "colab": {
          "base_uri": "https://localhost:8080/"
        },
        "id": "lujuWN_gObXR",
        "outputId": "1d12f6fd-eb27-4902-e52d-601b5d24d218"
      },
      "execution_count": null,
      "outputs": [
        {
          "output_type": "stream",
          "name": "stdout",
          "text": [
            "Ingrese cantidad de palabras. 5\n",
            "Ingrese palabra. dsdsaadda\n",
            "Ingrese palabra. SADSASDSDA\n",
            "Ingrese palabra. DSADDADADD\n",
            "Ingrese palabra. DFJHDKTDSDSDG\n",
            "Ingrese palabra. fsdfdsjhdtjdgas\n",
            "['SADSASDSDA', 'DSADDADADD', 'DFJHDKTDSDSDG']\n"
          ]
        },
        {
          "output_type": "execute_result",
          "data": {
            "text/plain": [
              "['dsdsaadda', 'fsdfdsjhdtjdgas']"
            ]
          },
          "metadata": {},
          "execution_count": 1
        }
      ]
    },
    {
      "cell_type": "code",
      "source": [
        "#comprensión\n",
        "n=int(input(\"Ingrese cantidad de palabras: \"))\n",
        "lista3=[]\n",
        "for i in range(n):\n",
        "  l=input(\"Ingresa palabra: \")\n",
        "  lista3.append(l)\n",
        "\n",
        "lista_com_M=[elemento for elemento in lista3 if elemento.isupper()]\n",
        "lista_com_m=[elemento for elemento in lista3 if elemento.islower()]\n",
        "\n",
        "print(\"Mayusculas: \",lista_com_M )\n",
        "print(\"Minusculas: \",lista_com_m)"
      ],
      "metadata": {
        "colab": {
          "base_uri": "https://localhost:8080/"
        },
        "id": "ZyZxnbDgOqfd",
        "outputId": "77ca1ad0-e34c-47ac-ee2b-e229a3c2a8c4"
      },
      "execution_count": null,
      "outputs": [
        {
          "output_type": "stream",
          "name": "stdout",
          "text": [
            "Ingrese cantidad de palabras: 3\n",
            "Ingresa palabra: fasffsafafasfasgah\n",
            "Ingresa palabra: HSDadNFKFKF\n",
            "Ingresa palabra: DLAFHAFAHF\n",
            "Mayusculas:  ['DLAFHAFAHF']\n",
            "Minusculas:  ['fasffsafafasfasgah']\n"
          ]
        }
      ]
    },
    {
      "cell_type": "markdown",
      "source": [
        "#Leslei"
      ],
      "metadata": {
        "id": "qd2z3DRpOetp"
      }
    },
    {
      "cell_type": "code",
      "source": [
        "c=int(input(\"Digita la cantidad de elementos: \"))\n",
        "lista1=[]\n",
        "for i in range(c):\n",
        "  word=input(\"Escribe aquí: \").lower()\n",
        "  lista1.append(word)\n",
        "print(lista1)\n",
        "lista2=list(map(lambda x:True if x==x[::-1] else False,lista1))\n",
        "lista2"
      ],
      "metadata": {
        "colab": {
          "base_uri": "https://localhost:8080/"
        },
        "id": "_zMuMLFNOhQB",
        "outputId": "641bf3ab-e7f8-46dd-9dc0-51861eb7669d"
      },
      "execution_count": null,
      "outputs": [
        {
          "output_type": "stream",
          "name": "stdout",
          "text": [
            "Digita la cantidad de elementos: 2\n",
            "Escribe aquí: ana\n",
            "Escribe aquí: dsada\n",
            "['ana', 'dsada']\n"
          ]
        },
        {
          "output_type": "execute_result",
          "data": {
            "text/plain": [
              "[True, False]"
            ]
          },
          "metadata": {},
          "execution_count": 7
        }
      ]
    },
    {
      "cell_type": "markdown",
      "source": [
        "#Paula"
      ],
      "metadata": {
        "id": "GYDo2J49Og8A"
      }
    },
    {
      "cell_type": "code",
      "source": [
        "def capitalizador(oracion):\n",
        "  lista1=[]\n",
        "  for l in n1:\n",
        "    lista1.append(l)\n",
        "    lista1[0]=n1[0].upper()\n",
        "  print(\"\".join(lista1))"
      ],
      "metadata": {
        "id": "3pAsC9TFPAIR"
      },
      "execution_count": null,
      "outputs": []
    },
    {
      "cell_type": "code",
      "source": [
        "n1=input(\"Ingresa una oración: \")\n",
        "oracion=capitalizador(n1)\n",
        "oracion"
      ],
      "metadata": {
        "colab": {
          "base_uri": "https://localhost:8080/"
        },
        "id": "UuXshs_HPBvp",
        "outputId": "35869e2c-b0d2-4cd8-fb9f-bea84ba49624"
      },
      "execution_count": null,
      "outputs": [
        {
          "output_type": "stream",
          "name": "stdout",
          "text": [
            "Ingresa una oración: dsaaagw\n",
            "Dsaaagw\n"
          ]
        }
      ]
    },
    {
      "cell_type": "markdown",
      "source": [],
      "metadata": {
        "id": "WG5C-cD7PnvQ"
      }
    },
    {
      "cell_type": "code",
      "source": [
        "#lambda\n",
        "print(\"mucho texto\")\n",
        "personas=[(\"pedro\",33),(\"ana\",3),(\"Juan\",13)]"
      ],
      "metadata": {
        "id": "YRzgy5QhPorZ"
      },
      "execution_count": null,
      "outputs": []
    },
    {
      "cell_type": "markdown",
      "source": [
        "#*NO DEJAN COPIAR*"
      ],
      "metadata": {
        "id": "GSGwU8Y7QkYR"
      }
    }
  ]
}