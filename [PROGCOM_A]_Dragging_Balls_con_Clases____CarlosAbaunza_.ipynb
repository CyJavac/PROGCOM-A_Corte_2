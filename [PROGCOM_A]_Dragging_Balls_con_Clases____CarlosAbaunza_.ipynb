{
  "nbformat": 4,
  "nbformat_minor": 0,
  "metadata": {
    "colab": {
      "provenance": [],
      "collapsed_sections": []
    },
    "kernelspec": {
      "name": "python3",
      "display_name": "Python 3"
    },
    "language_info": {
      "name": "python"
    }
  },
  "cells": [
    {
      "cell_type": "code",
      "execution_count": 10,
      "metadata": {
        "id": "dTV2kmSDJJ50"
      },
      "outputs": [],
      "source": [
        "class Sayan():\n",
        "  def __init__(self, nombre, cabello, ojos, fuerza, estatura, cola):\n",
        "    self._nombre=nombre\n",
        "    self._cabello=\"Negro\"\n",
        "    self._ojos=\"Negros\"\n",
        "    self._fuerza=fuerza\n",
        "    self._estatura=estatura\n",
        "    self._cola=True\n",
        "\n",
        "  def color_cabello(self,fuerza_base):\n",
        "    fuerza_t=90000\n",
        "\n",
        "\n",
        "    if fuerza_base*10>=fuerza_t:\n",
        "      print(f\"{self.nombre} es sayan fase 1\")\n",
        "      self.cabello:\"Rubio\"\n",
        "    elif fuerza_base*20>=fuerza_t*20:\n",
        "      print(f\"{self.nombre} es sayan fase 2\")\n",
        "      self.cabello:\"Rubio\"\n",
        "    elif fuerza_base*20>=fuerza_t*20:\n",
        "      print(f\"{self.nombre} es sayan fase 3\")\n",
        "      self.cabello:\"Rubio\"\n",
        "    elif fuerza_base*1000>=fuerza_t*1000:\n",
        "      print(f\"{self.nombre} es sayan fase Dios\")\n",
        "      self.cabello:\"Rojo\"\n",
        "      if self.cola==False:\n",
        "        print(f\"A {self.nombre} le crece cola\")\n",
        "        self.cola=True\n",
        "    else:\n",
        "      print(\"Sayan ultra instinto\")\n",
        "      self.cabello=\"'Cenizo'\"\n",
        "\n",
        "  def trabajo(self,trabajo):\n",
        "    if trabajo==1:\n",
        "      print(f\"{self.nombre} es guerrero.\")\n",
        "    elif trabajo==2:\n",
        "      print(f\"{self.nombre} es liendra de Frezzer (?)\")\n",
        "    elif trabajo==3:\n",
        "      print(f\"{self.nombre} es de la realeza.\")\n",
        "\n",
        "\n",
        "  def luna(self,luna):\n",
        "    if self.cola and luna==\"Luna llena\":\n",
        "      print(f\"{self.nombre} se convierte en ozaru (?).\")\n",
        "      self.fuerza=self.fuerza*50\n",
        "    else:\n",
        "      print(f\"{self.nombre} se queda igual.\")\n",
        "\n",
        "\n",
        "\n",
        "\n",
        "class Humanos():\n",
        "  def __init__(self, nombre, cabello, ojos, fuerza, estatura):\n",
        "    self.nombre=nombre\n",
        "    self.cabello=cabello\n",
        "    self.ojos=ojos\n",
        "    self.fuerza=fuerza\n",
        "    self.estatura=estatura\n",
        "\n",
        "\n",
        "\n",
        "  def color_cabello(self,tinte):\n",
        "    if tinte==0:\n",
        "      print(f\"{self.nombre} ha decolorado su cabello.\")\n",
        "      self.cabello=\"Amarillo\"\n",
        "    elif tinte==2:\n",
        "      print(f\"{self.nombre} ha tintado su cabello a lila.\")\n",
        "      self.cabello=\"Lila\"\n",
        "    elif tinte==3:\n",
        "      print(f\"{self.nombre} ha tintado su cabello a nuez.\")\n",
        "      self.cabello=\"Nuez\"\n",
        "    else:\n",
        "      print(f\"{self.nombre} tiene cabello canoso.\")\n",
        "      self.cabello=\"Canoso\"\n",
        "\n",
        "\n",
        "\n",
        "  def trabajo(self,trabajo):\n",
        "    if trabajo==1:\n",
        "      print(f\"{self.nombre} trabaja en un callcenter.\")\n",
        "    elif trabajo==2:\n",
        "      print(f\"{self.nombre} trabaja como vendedor de bonice.\")\n",
        "    elif trabajo==3:\n",
        "      print(f\"{self.nombre} trabaja como tombo.\")\n",
        "    elif trabajo==4:\n",
        "      print(f\"{self.nombre} trabaja como programador de python.\")\n",
        "    else:\n",
        "      print(f\"{self.nombre} es nini.\")\n",
        "\n",
        "\n",
        "class Hibrido(Sayan,Humanos):\n",
        "  def __init__(self,trabajo):\n",
        "    Sayan.__init__(self, nombre, cabello, ojos, fuerza, estatura, cola)\n",
        "    super()\n",
        "    self.trabajo=trabajo\n",
        "    \n",
        "\n"
      ]
    },
    {
      "cell_type": "code",
      "source": [
        "goku=Sayan(\"Kakaroto\",\"Homo\",\"Blancos\",100,50,True)\n",
        "milk=Humanos(\"Milk\",\"Negro\",\"Negros\",100,50)\n"
      ],
      "metadata": {
        "id": "MeeRxhX_SoSW"
      },
      "execution_count": 40,
      "outputs": []
    },
    {
      "cell_type": "code",
      "source": [
        "goku.color_cabello(10000)"
      ],
      "metadata": {
        "colab": {
          "base_uri": "https://localhost:8080/"
        },
        "id": "RUlCF-VlTqAz",
        "outputId": "c6271762-9098-449b-88d9-93aec6b94090"
      },
      "execution_count": 12,
      "outputs": [
        {
          "output_type": "stream",
          "name": "stdout",
          "text": [
            "Kakaroto es sayan fase 1\n"
          ]
        }
      ]
    },
    {
      "cell_type": "code",
      "source": [
        "goku.__ojos=\"Azul\"  ## 2 _ para privados"
      ],
      "metadata": {
        "id": "DWzGvNlNUihi"
      },
      "execution_count": 41,
      "outputs": []
    },
    {
      "cell_type": "code",
      "source": [
        "goku.__dict__"
      ],
      "metadata": {
        "colab": {
          "base_uri": "https://localhost:8080/"
        },
        "id": "jjX3DgFJUVOz",
        "outputId": "53978006-fc6d-4c3f-f387-27f33aa62754"
      },
      "execution_count": 42,
      "outputs": [
        {
          "output_type": "execute_result",
          "data": {
            "text/plain": [
              "{'nombre': 'Kakaroto',\n",
              " 'cabello': 'Negro',\n",
              " 'ojos': 'Negros',\n",
              " 'fuerza': 100,\n",
              " 'estatura': 50,\n",
              " 'cola': True,\n",
              " '__ojos': 'Azul'}"
            ]
          },
          "metadata": {},
          "execution_count": 42
        }
      ]
    },
    {
      "cell_type": "code",
      "source": [
        "gohan=Hibrido(\"Gohan\",\"Negro\",\"Agua marina\",1000,50,True)"
      ],
      "metadata": {
        "id": "3cajszDKVT7a"
      },
      "execution_count": 33,
      "outputs": []
    },
    {
      "cell_type": "code",
      "source": [
        "gohan.trabajo(2)"
      ],
      "metadata": {
        "colab": {
          "base_uri": "https://localhost:8080/"
        },
        "id": "1gvdeXliVomY",
        "outputId": "e7259961-f184-4f60-aa5f-501460d52eec"
      },
      "execution_count": 34,
      "outputs": [
        {
          "output_type": "stream",
          "name": "stdout",
          "text": [
            "Gohan es liendra de Frezzer (?)\n"
          ]
        }
      ]
    },
    {
      "cell_type": "markdown",
      "source": [
        "#----------------------------------------------------------------------------------------------------"
      ],
      "metadata": {
        "id": "feUgSG_yXpqr"
      }
    },
    {
      "cell_type": "code",
      "source": [
        "objeto={\"Atún\":1000, \"Pasta\":3000}"
      ],
      "metadata": {
        "id": "tVztYbqKX4xq"
      },
      "execution_count": 43,
      "outputs": []
    },
    {
      "cell_type": "code",
      "source": [
        "class Agregar(list):\n",
        "  print(\"Agregando objetos a lista\")"
      ],
      "metadata": {
        "colab": {
          "base_uri": "https://localhost:8080/"
        },
        "id": "oJEnbClBXyC6",
        "outputId": "495c4bd5-e138-4740-a7f5-33903b2f2fa2"
      },
      "execution_count": 45,
      "outputs": [
        {
          "output_type": "stream",
          "name": "stdout",
          "text": [
            "Agregando objetos a lista\n"
          ]
        }
      ]
    }
  ]
}