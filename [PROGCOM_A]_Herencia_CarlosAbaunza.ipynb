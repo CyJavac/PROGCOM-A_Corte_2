{
  "nbformat": 4,
  "nbformat_minor": 0,
  "metadata": {
    "colab": {
      "provenance": [],
      "collapsed_sections": []
    },
    "kernelspec": {
      "name": "python3",
      "display_name": "Python 3"
    },
    "language_info": {
      "name": "python"
    }
  },
  "cells": [
    {
      "cell_type": "code",
      "execution_count": 11,
      "metadata": {
        "id": "-OmDcuUhDUYC"
      },
      "outputs": [],
      "source": [
        "class Espada():\n",
        "  nombre=\"Nombre\"\n",
        "  daño=\"Daño\"\n",
        "\n",
        "  def __init__(self,nombre,daño):\n",
        "    self.nombre=nombre\n",
        "    self.daño=daño\n",
        "\n",
        "  def __repr__(self):\n",
        "    return f\"Espada: {self.nombre}, y causa: {self.daño} de daño.\"\n"
      ]
    },
    {
      "cell_type": "code",
      "source": [
        "class Espada_elemental(Espada):\n",
        "  def masatributos(self,elemento,tamaño,durabilidad,color):\n",
        "    self.elemento=elemento\n",
        "    self.tamaño=tamaño\n",
        "    self.durabilidad=durabilidad\n",
        "    self.color=color"
      ],
      "metadata": {
        "id": "s4WuZrbbGqao"
      },
      "execution_count": 12,
      "outputs": []
    },
    {
      "cell_type": "code",
      "source": [
        "espada1=Espada_elemental(\"Ebony\",11.5)"
      ],
      "metadata": {
        "id": "nyy4xAcSIw4T"
      },
      "execution_count": 13,
      "outputs": []
    },
    {
      "cell_type": "code",
      "source": [
        "print(espada1)"
      ],
      "metadata": {
        "colab": {
          "base_uri": "https://localhost:8080/"
        },
        "id": "Lb4OiICNI_1i",
        "outputId": "2aac3198-f666-43b6-a028-3895e84e0529"
      },
      "execution_count": 14,
      "outputs": [
        {
          "output_type": "stream",
          "name": "stdout",
          "text": [
            "Espada: Ebony, y causa: 11.5 de daño.\n"
          ]
        }
      ]
    },
    {
      "cell_type": "code",
      "source": [
        "espada1.masatributos(\"Ebano\",10,3500,\"Gris oscuro\")"
      ],
      "metadata": {
        "id": "K4h24UU2JkiD"
      },
      "execution_count": 15,
      "outputs": []
    },
    {
      "cell_type": "code",
      "source": [
        "espada1.__dict__"
      ],
      "metadata": {
        "colab": {
          "base_uri": "https://localhost:8080/"
        },
        "id": "wK7_-YgMKY27",
        "outputId": "322da254-1fc7-44d7-bfb9-0a5057839c29"
      },
      "execution_count": 16,
      "outputs": [
        {
          "output_type": "execute_result",
          "data": {
            "text/plain": [
              "{'nombre': 'Ebony',\n",
              " 'daño': 11.5,\n",
              " 'elemento': 'Ebano',\n",
              " 'tamaño': 10,\n",
              " 'durabilidad': 3500,\n",
              " 'color': 'Gris oscuro'}"
            ]
          },
          "metadata": {},
          "execution_count": 16
        }
      ]
    },
    {
      "cell_type": "markdown",
      "source": [
        "##Dragging balls"
      ],
      "metadata": {
        "id": "md6VoL7hM_dv"
      }
    },
    {
      "cell_type": "code",
      "source": [
        "class Humano():\n",
        "  nombre=\"Nombre\"\n",
        "  sangre=\"Sangre\"\n",
        "  edad=\"Edad\"\n",
        "  pelo=\"Pelo\"\n",
        "  genero=\"Genero\"\n",
        "  brazos=\"Brazos\"\n",
        "  piernas=\"Piernas\"\n",
        "\n",
        "\n",
        "  def __init__(self,nombre,sangre,edad,pelo,genero,brazos,piernas,ojos,nariz,boca,cejas,orejas) -> None:\n",
        "    self.nombre=nombre\n",
        "    self.sangre=sangre\n",
        "    self.edad=edad\n",
        "    self.pelo=pelo\n",
        "    self.genero=genero\n",
        "    self.brazos=brazos\n",
        "    self.piernas=piernas\n",
        "    self.ojos=ojos\n",
        "    self.nariz=nariz\n",
        "    self.boca=boca\n",
        "    self.cejas=cejas\n",
        "    self.orejas=orejas\n",
        "\n",
        "\n",
        "  def __repr__(self) -> str:\n",
        "    return f\"Humano con nombre {self.nombre} y sangre tipo {self.sangre}.\"\n",
        "\n",
        "\n",
        "  def caminar(self,aceleracion,velocidad):\n",
        "    if velocidad>0.5 and velocidad<1:\n",
        "      return f\"{self.nombre} esta gateando.\"\n",
        "    elif velocidad>2 and velocidad<4:\n",
        "      return f\"{self.nombre} esta caminando.\"\n",
        "    elif velocidad>=5 and velocidad<7:\n",
        "      return f\"{self.nombre} esta trotando.\"  \n",
        "    elif velocidad>=7 and velocidad<10:\n",
        "      return f\"{self.nombre} esta corriendo.\"\n",
        "    elif velocidad>=1 and velocidad<2:\n",
        "      return f\"{self.nombre} esta cojeando.\"\n",
        "    else:\n",
        "      return f\"{self.nombre} esta volando.\"\n",
        "\n",
        "  def comer(self,saciedad):\n",
        "    if saciedad>0 and saciedad<1:\n",
        "      return f\"{self.nombre} tiene hambre.\"\n",
        "    elif saciedad>1 and saciedad<2:\n",
        "      return f\"{self.nombre} sigue con hambre.\"\n",
        "    elif saciedad>2 and saciedad<5:\n",
        "      return f\"{self.nombre} esta bien.\"\n",
        "    else:\n",
        "      return f\"{self.nombre} esta lleno.\"\n"
      ],
      "metadata": {
        "id": "JHMmpAYdNJww"
      },
      "execution_count": 18,
      "outputs": []
    },
    {
      "cell_type": "code",
      "source": [
        "estudiante=Humano(\"Pepe\",\"O+\",23,\"Pelon\",\"Se identifica con un tenedor\",4,2,3,1,\"Chueca\",\"Uniceja\",\"Dumbo\")"
      ],
      "metadata": {
        "id": "fLQzn_j2XLYC"
      },
      "execution_count": 21,
      "outputs": []
    },
    {
      "cell_type": "code",
      "source": [
        "estudiante.__dict__"
      ],
      "metadata": {
        "colab": {
          "base_uri": "https://localhost:8080/"
        },
        "id": "-BPCMF6RXgDQ",
        "outputId": "e05d9634-bca6-489d-a6a1-e412cfbc7a5b"
      },
      "execution_count": 22,
      "outputs": [
        {
          "output_type": "execute_result",
          "data": {
            "text/plain": [
              "{'nombre': 'Pepe',\n",
              " 'sangre': 'O+',\n",
              " 'edad': 23,\n",
              " 'pelo': 'Pelon',\n",
              " 'genero': 'Se identifica con un tenedor',\n",
              " 'brazos': 4,\n",
              " 'piernas': 2,\n",
              " 'ojos': 3,\n",
              " 'nariz': 1,\n",
              " 'boca': 'Chueca',\n",
              " 'cejas': 'Uniceja',\n",
              " 'orejas': 'Dumbo'}"
            ]
          },
          "metadata": {},
          "execution_count": 22
        }
      ]
    }
  ]
}