{
  "nbformat": 4,
  "nbformat_minor": 0,
  "metadata": {
    "colab": {
      "provenance": []
    },
    "kernelspec": {
      "name": "python3",
      "display_name": "Python 3"
    },
    "language_info": {
      "name": "python"
    }
  },
  "cells": [
    {
      "cell_type": "markdown",
      "source": [
        "#lambda o funciones anonimas\n",
        "\n",
        "Cuando queremos crear funciones pqueñas de facil acceso y rapidas.\n",
        "\n",
        "**Puede contener varios argumentos pero solo una expresión**\n",
        "\n",
        "Definir lambda:\n",
        "\n",
        "\n",
        "\n",
        "```\n",
        "lambda (parámetros):expresión\n",
        "```\n",
        "\n"
      ],
      "metadata": {
        "id": "SEGL28r19VVT"
      }
    },
    {
      "cell_type": "code",
      "execution_count": 1,
      "metadata": {
        "id": "SrykLRV78gnh",
        "colab": {
          "base_uri": "https://localhost:8080/"
        },
        "outputId": "85bfd010-ee00-4d13-e575-b76bd79c04dc"
      },
      "outputs": [
        {
          "output_type": "execute_result",
          "data": {
            "text/plain": [
              "[9, 49, 36, 81]"
            ]
          },
          "metadata": {},
          "execution_count": 1
        }
      ],
      "source": [
        "#Función que eleve al cuadrado todos los elementos de una lista.\n",
        "lista=[3,7,6,9]\n",
        "#Comprensón\n",
        "lista2=[n**2 for n in lista]\n",
        "\n",
        "lista2"
      ]
    },
    {
      "cell_type": "code",
      "source": [
        "#\n",
        "\n",
        "lambda1=lambda x:x**2\n",
        "\n",
        "lambda1(2)"
      ],
      "metadata": {
        "colab": {
          "base_uri": "https://localhost:8080/"
        },
        "id": "UA6b4igsAEz_",
        "outputId": "15a1629c-5dd7-4e25-b055-e5b4ce5beab7"
      },
      "execution_count": 4,
      "outputs": [
        {
          "output_type": "execute_result",
          "data": {
            "text/plain": [
              "4"
            ]
          },
          "metadata": {},
          "execution_count": 4
        }
      ]
    },
    {
      "cell_type": "code",
      "source": [
        "lambda2=lambda x,y:x**y\n",
        "\n",
        "lambda2(2,3)"
      ],
      "metadata": {
        "colab": {
          "base_uri": "https://localhost:8080/"
        },
        "id": "QibAvEY4Ah-3",
        "outputId": "f85f1bd7-ea39-4a31-e84b-7c825c10578f"
      },
      "execution_count": 5,
      "outputs": [
        {
          "output_type": "execute_result",
          "data": {
            "text/plain": [
              "8"
            ]
          },
          "metadata": {},
          "execution_count": 5
        }
      ]
    },
    {
      "cell_type": "code",
      "source": [
        "#Elevra un número al cuadrado solo si es >10\n",
        "lambda3=lambda x:True if x%2==0 else False\n",
        "\n",
        "lambda3(3)"
      ],
      "metadata": {
        "colab": {
          "base_uri": "https://localhost:8080/"
        },
        "id": "9kGDRx0SA8Cv",
        "outputId": "09ee34f7-cbe6-40fc-dbfb-e6a5b0fd35e8"
      },
      "execution_count": 11,
      "outputs": [
        {
          "output_type": "execute_result",
          "data": {
            "text/plain": [
              "False"
            ]
          },
          "metadata": {},
          "execution_count": 11
        }
      ]
    },
    {
      "cell_type": "code",
      "source": [
        "def elevar(*entrada): #Se coloca * para indicar que se va a ingresar una lista.\n",
        "  for i in lista:\n",
        "    "
      ],
      "metadata": {
        "id": "l_VybfArCjRA"
      },
      "execution_count": null,
      "outputs": []
    },
    {
      "cell_type": "code",
      "source": [
        "letras={\"A\":3,\"B\":6,\"C\":9}\n",
        "\n",
        "sorted(letras,key=lambda x:letras[x]%3)"
      ],
      "metadata": {
        "colab": {
          "base_uri": "https://localhost:8080/"
        },
        "id": "Mxssad7FCuxI",
        "outputId": "a4a3b67f-8277-44d9-fbdb-709fa9a92e7a"
      },
      "execution_count": 13,
      "outputs": [
        {
          "output_type": "execute_result",
          "data": {
            "text/plain": [
              "['A', 'B', 'C']"
            ]
          },
          "metadata": {},
          "execution_count": 13
        }
      ]
    },
    {
      "cell_type": "code",
      "source": [
        "import random\n",
        "mi_lista=[random.randrange(1,11) for n in range(10)]\n",
        "sorted(mi_lista)\n"
      ],
      "metadata": {
        "colab": {
          "base_uri": "https://localhost:8080/"
        },
        "id": "hrsZmyiZEE_D",
        "outputId": "83fb6ee5-11d9-4256-e837-93c46c825568"
      },
      "execution_count": 50,
      "outputs": [
        {
          "output_type": "execute_result",
          "data": {
            "text/plain": [
              "[2, 2, 3, 4, 5, 7, 9, 10, 10, 10]"
            ]
          },
          "metadata": {},
          "execution_count": 50
        }
      ]
    },
    {
      "cell_type": "code",
      "source": [
        "import random\n",
        "mi_lista=[random.randrange(1,11) for n in range(1,10)]\n",
        "sorted(mi_lista)"
      ],
      "metadata": {
        "colab": {
          "base_uri": "https://localhost:8080/"
        },
        "id": "vJBjZaiCGLd6",
        "outputId": "fe81294e-e879-4640-dd3e-1810a5ed7eae"
      },
      "execution_count": 73,
      "outputs": [
        {
          "output_type": "execute_result",
          "data": {
            "text/plain": [
              "[2, 3, 5, 5, 6, 7, 7, 9, 10]"
            ]
          },
          "metadata": {},
          "execution_count": 73
        }
      ]
    },
    {
      "cell_type": "code",
      "source": [],
      "metadata": {
        "id": "SduWQr5nGudH"
      },
      "execution_count": null,
      "outputs": []
    },
    {
      "cell_type": "markdown",
      "source": [
        "##Funciones de orden superior\n",
        "1. MAP\n",
        "La función se aplica a cada elemento de la lista\n",
        "\n",
        "map(una_funcion,una_lista)"
      ],
      "metadata": {
        "id": "KVk1P79PGxxm"
      }
    },
    {
      "cell_type": "code",
      "source": [
        "cuadrados=[]\n",
        "for i in lista:\n",
        "  cuadrados.append(i**2)\n",
        "\n",
        "print(cuadrados)"
      ],
      "metadata": {
        "colab": {
          "base_uri": "https://localhost:8080/"
        },
        "id": "mK9BSUtXHVFz",
        "outputId": "6570ab6f-0aa0-4700-cc5a-b341640735c1"
      },
      "execution_count": 54,
      "outputs": [
        {
          "output_type": "stream",
          "name": "stdout",
          "text": [
            "[9, 49, 36, 81]\n"
          ]
        }
      ]
    },
    {
      "cell_type": "code",
      "source": [
        "cuadrado2=[x**2 for x in lista]\n",
        "cuadrado2"
      ],
      "metadata": {
        "colab": {
          "base_uri": "https://localhost:8080/"
        },
        "id": "iFRAS6pvImy5",
        "outputId": "fbc5da17-0156-4cbb-9fc4-0f18b6528064"
      },
      "execution_count": 55,
      "outputs": [
        {
          "output_type": "execute_result",
          "data": {
            "text/plain": [
              "[9, 49, 36, 81]"
            ]
          },
          "metadata": {},
          "execution_count": 55
        }
      ]
    },
    {
      "cell_type": "code",
      "source": [
        "cuadrado3=list(map(lambda x:x**2,lista))\n",
        "cuadrado3"
      ],
      "metadata": {
        "colab": {
          "base_uri": "https://localhost:8080/"
        },
        "id": "gxH1Tj2QI0ro",
        "outputId": "4774c578-88dc-4563-b07e-635c3bb0201b"
      },
      "execution_count": 56,
      "outputs": [
        {
          "output_type": "execute_result",
          "data": {
            "text/plain": [
              "[9, 49, 36, 81]"
            ]
          },
          "metadata": {},
          "execution_count": 56
        }
      ]
    },
    {
      "cell_type": "markdown",
      "source": [
        "#2. FILTER\n",
        "\n",
        "Filtrar. Si se cumple la condiciób, devuelve un True.\n",
        "\n",
        "\n",
        "\n",
        "```\n",
        "filter(una_funcion,una_lista)\n",
        "```\n",
        "\n"
      ],
      "metadata": {
        "id": "Dcfu_PUhHG4j"
      }
    },
    {
      "cell_type": "code",
      "source": [
        "valores=[n for n in range(1,10)]\n",
        "pares=[]\n",
        "for valor in valores:\n",
        "  if valor%2==0:\n",
        "    pares.append(valor)\n",
        "\n",
        "print(pares)"
      ],
      "metadata": {
        "colab": {
          "base_uri": "https://localhost:8080/"
        },
        "id": "FUNtQ8qRKH5O",
        "outputId": "df737ac7-5c91-4f34-c07a-794348765030"
      },
      "execution_count": 62,
      "outputs": [
        {
          "output_type": "stream",
          "name": "stdout",
          "text": [
            "[2, 4, 6, 8]\n"
          ]
        }
      ]
    },
    {
      "cell_type": "code",
      "source": [
        "valor2=[lol for lol in valores if lol%2==0]\n",
        "valor2"
      ],
      "metadata": {
        "colab": {
          "base_uri": "https://localhost:8080/"
        },
        "id": "5fN3adCOLQIR",
        "outputId": "2d9fc25f-fefc-497c-930a-1071c3709874"
      },
      "execution_count": 63,
      "outputs": [
        {
          "output_type": "execute_result",
          "data": {
            "text/plain": [
              "[2, 4, 6, 8]"
            ]
          },
          "metadata": {},
          "execution_count": 63
        }
      ]
    },
    {
      "cell_type": "code",
      "source": [
        "valor3=list(filter(lambda julito:julito%2==0,valores))\n",
        "valor3"
      ],
      "metadata": {
        "colab": {
          "base_uri": "https://localhost:8080/"
        },
        "id": "LYtedXCTLZSo",
        "outputId": "f755ad5a-4dad-47b7-d069-4550b235caf2"
      },
      "execution_count": 66,
      "outputs": [
        {
          "output_type": "execute_result",
          "data": {
            "text/plain": [
              "[2, 4, 6, 8]"
            ]
          },
          "metadata": {},
          "execution_count": 66
        }
      ]
    },
    {
      "cell_type": "markdown",
      "source": [
        "#3. REDUCE\n",
        "\n",
        "Es un acumulador\n",
        "\n",
        "**Para usar REDUCE se debe importar el módulo functools**"
      ],
      "metadata": {
        "id": "PM4EyQUZL8C_"
      }
    },
    {
      "cell_type": "code",
      "source": [
        "from functools import reduce\n",
        "\n",
        "def suma(lista):\n",
        "  suma=0\n",
        "  for i in lista:\n",
        "    suma+=i\n",
        "  return suma\n",
        "\n",
        "print(suma(valores))"
      ],
      "metadata": {
        "colab": {
          "base_uri": "https://localhost:8080/"
        },
        "id": "okvdlEHYL7km",
        "outputId": "67bbf7dd-67b4-4fa2-b295-b4c84b5abf3f"
      },
      "execution_count": 70,
      "outputs": [
        {
          "output_type": "stream",
          "name": "stdout",
          "text": [
            "45\n"
          ]
        }
      ]
    },
    {
      "cell_type": "code",
      "source": [
        "suma1=reduce(lambda x,y:x+y,valores)\n",
        "suma1"
      ],
      "metadata": {
        "colab": {
          "base_uri": "https://localhost:8080/"
        },
        "id": "9Vy9QD7QOEeT",
        "outputId": "54032d98-8f73-4df7-9fcd-b7f059ff2d61"
      },
      "execution_count": 72,
      "outputs": [
        {
          "output_type": "execute_result",
          "data": {
            "text/plain": [
              "45"
            ]
          },
          "metadata": {},
          "execution_count": 72
        }
      ]
    }
  ]
}