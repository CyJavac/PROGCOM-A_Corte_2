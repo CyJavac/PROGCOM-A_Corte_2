{
  "nbformat": 4,
  "nbformat_minor": 0,
  "metadata": {
    "colab": {
      "provenance": [],
      "collapsed_sections": []
    },
    "kernelspec": {
      "name": "python3",
      "display_name": "Python 3"
    },
    "language_info": {
      "name": "python"
    }
  },
  "cells": [
    {
      "cell_type": "markdown",
      "source": [
        "#POO o Programación orientada a objetos\n",
        "Clase es como un molde\n",
        "* Variables ==> Atributos\n",
        "* Fuciones ==> Métodos\n",
        "* Constructor ==> Constituye una clase\n",
        "* Objetos: Comparten atributos, métodos, relaciones, tienen identidad propia"
      ],
      "metadata": {
        "id": "D0xn3GGADfoB"
      }
    },
    {
      "cell_type": "code",
      "execution_count": null,
      "metadata": {
        "id": "V-ISyHB1DNse"
      },
      "outputs": [],
      "source": [
        "class mascotas():\n",
        "  pass"
      ]
    },
    {
      "cell_type": "code",
      "source": [
        "a=mascotas\n",
        "b=mascotas"
      ],
      "metadata": {
        "id": "iPrFRke0E9Mo"
      },
      "execution_count": null,
      "outputs": []
    },
    {
      "cell_type": "code",
      "source": [
        "if a==b:\n",
        "  print(\"Son iguanitos\")\n",
        "else:\n",
        "  print(\"No son iguanitos\")"
      ],
      "metadata": {
        "colab": {
          "base_uri": "https://localhost:8080/"
        },
        "id": "IKMkxMl6GZ-A",
        "outputId": "bd8c1c8e-0ed0-43be-e8f8-bbdee7e83996"
      },
      "execution_count": null,
      "outputs": [
        {
          "output_type": "stream",
          "name": "stdout",
          "text": [
            "Son iguanitos\n"
          ]
        }
      ]
    },
    {
      "cell_type": "code",
      "source": [
        "class empleado:\n",
        "  #Construyendo un constructor\n",
        "  def __init__(self,nombre,edad,id,salario) -> None:\n",
        "    self.nombre=nombre\n",
        "    self.edad=edad\n",
        "    self.id=id\n",
        "    self.salario=salario\n",
        "\n",
        "  def __repr__(self) -> str:\n",
        "    return f\"nombre:{self.nombre}, edad:{self.edad}, id:{self.id}, salario:{self.salario}\""
      ],
      "metadata": {
        "id": "NeEbHF8-Gwqk"
      },
      "execution_count": null,
      "outputs": []
    },
    {
      "cell_type": "code",
      "source": [
        "sonia=empleado(\"Sonia\",25,\"U002314\",10000000)"
      ],
      "metadata": {
        "id": "jBDguCxMHeiN"
      },
      "execution_count": null,
      "outputs": []
    },
    {
      "cell_type": "code",
      "source": [
        "print(sonia.nombre)"
      ],
      "metadata": {
        "colab": {
          "base_uri": "https://localhost:8080/"
        },
        "id": "-HwI_ienH4dk",
        "outputId": "b610910a-905a-4c47-de9b-af501b9068ff"
      },
      "execution_count": null,
      "outputs": [
        {
          "output_type": "stream",
          "name": "stdout",
          "text": [
            "Sonia\n"
          ]
        }
      ]
    },
    {
      "cell_type": "code",
      "source": [
        "sonia.__dict__"
      ],
      "metadata": {
        "colab": {
          "base_uri": "https://localhost:8080/"
        },
        "id": "CWtruRM3IaH0",
        "outputId": "19be06e0-cc09-4a4d-c262-10e2972e1061"
      },
      "execution_count": null,
      "outputs": [
        {
          "output_type": "execute_result",
          "data": {
            "text/plain": [
              "{'nombre': 'Sonia', 'edad': 25, 'id': 'U002314', 'salario': 10000000}"
            ]
          },
          "metadata": {},
          "execution_count": 13
        }
      ]
    },
    {
      "cell_type": "code",
      "source": [
        "print(sonia)"
      ],
      "metadata": {
        "colab": {
          "base_uri": "https://localhost:8080/"
        },
        "id": "YcScrkLkKl_5",
        "outputId": "28f26161-5ca7-43b7-a2ef-1772ccedca86"
      },
      "execution_count": null,
      "outputs": [
        {
          "output_type": "stream",
          "name": "stdout",
          "text": [
            "nombre:Sonia, edad:25, id:U002314, salario:10000000\n"
          ]
        }
      ]
    },
    {
      "cell_type": "code",
      "source": [
        "madaniel=empleado(\"Pirulais\",83,\"U466446\",10000)"
      ],
      "metadata": {
        "id": "Zsu9mhPPNux5"
      },
      "execution_count": null,
      "outputs": []
    },
    {
      "cell_type": "code",
      "source": [
        "if sonia.salario==madaniel.salario:\n",
        "  print(f\"EL salario de {madaniel.nombre} y {sonia.nombre} son iguales.\")\n",
        "elif sonia.salario>madaniel.salario:\n",
        "  print(f\"EL salario de {sonia.nombre} es mayor al de {madaniel.nombre}.\")\n",
        "elif sonia.salario<madaniel.salario:\n",
        "  print(f\"EL salario de {madaniel.nombre} es mayor al de {sonia.nombre}.\")"
      ],
      "metadata": {
        "colab": {
          "base_uri": "https://localhost:8080/"
        },
        "id": "V-oJKnOpN7K_",
        "outputId": "01b36a6d-2726-43e1-a5bf-ec3b1bca48c4"
      },
      "execution_count": null,
      "outputs": [
        {
          "output_type": "stream",
          "name": "stdout",
          "text": [
            "EL salario de Sonia es mayor al de Pirulais.\n"
          ]
        }
      ]
    },
    {
      "cell_type": "markdown",
      "source": [
        "#Trabajo: hacer una calculadora de fracciones."
      ],
      "metadata": {
        "id": "K8eqbef5PE_6"
      }
    },
    {
      "cell_type": "code",
      "source": [
        "class Fraccion:\n",
        "  #Atributos de clase\n",
        "  num=0\n",
        "  den=1\n",
        "\n",
        "  if den==0:\n",
        "    print(\"Error: el denominador no puede ser igual a 0\")\n",
        "\n",
        "  #Constructor\n",
        "  def __init__(self,num=0,den=1) -> None:\n",
        "    self.num=num\n",
        "    self.den=den\n",
        "\n",
        "  def multiplica(self,b):\n",
        "    if self.den==0 or b.den==0:\n",
        "      print(\"Error: El denominador no puede ser igual a 0\")\n",
        "    else:\n",
        "      num=self.num*b.num\n",
        "      den=self.den*b.den\n",
        "      r=Fraccion(num,den)\n",
        "      return r\n",
        "\n",
        "  def imprime(self):\n",
        "    print(self.num,\"/\",self.den)\n",
        "\n",
        "\n",
        "  def suma(self,x):\n",
        "    if self.den==0 or x.den==0:\n",
        "      print(\"Error: El denominador no puede ser igual a 0\")\n",
        "    else:  \n",
        "      num=self.num*x.den+self.den*x.num\n",
        "      if self.den == x.den:\n",
        "        den=self.den\n",
        "      else:\n",
        "        den=self.den*x.den\n",
        "      r=Fraccion(num,den)\n",
        "      print(f\"La suma entre: {self.num}/{self.den} y {x.num}/{x.den} es: {r.num}/{r.den}\")\n",
        "      return r\n",
        "\n",
        "  def resta(self,y):\n",
        "    if self.den==0 or y.den==0:\n",
        "      print(\"Error: El denominador no puede ser igual a 0\")\n",
        "    else:\n",
        "      num=self.num*y.den-self.den*y.num\n",
        "      if self.den == y.den:\n",
        "        den=self.den\n",
        "      else:\n",
        "        den=self.den*y.den\n",
        "      r=Fraccion(num,den)\n",
        "      print(f\"La resta entre: {self.num}/{self.den} y {y.num}/{y.den} es: {r.num}/{r.den}\")\n",
        "      return r\n",
        "\n",
        "  def division(self,z):\n",
        "    if self.den==0 or z.den==0:\n",
        "      print(\"Error: El denominador no puede ser igual a 0\")\n",
        "    else:\n",
        "      num=self.num*z.den\n",
        "      den=self.den*z.num\n",
        "      r=Fraccion(num,den)\n",
        "      print(f\"La división entre: {self.num}/{self.den} y {z.num}/{z.den} es: {r.num}/{r.den} = {r.num/r.den}\")\n",
        "      return r\n",
        "\n",
        "\n",
        "  \n",
        "\n",
        "#Hacer suma, resta, división y potencia de fracciones prox clas\n",
        "  "
      ],
      "metadata": {
        "id": "l0tVkMKuPEs6"
      },
      "execution_count": 135,
      "outputs": []
    },
    {
      "cell_type": "code",
      "source": [
        "#Creando objetos tipo Fracción\n",
        "a1=Fraccion(4,5)\n",
        "a2=Fraccion(8,9)\n"
      ],
      "metadata": {
        "id": "NlClPzO_RPTE"
      },
      "execution_count": 144,
      "outputs": []
    },
    {
      "cell_type": "code",
      "source": [
        "a1.imprime()\n",
        "a2.imprime()\n"
      ],
      "metadata": {
        "colab": {
          "base_uri": "https://localhost:8080/"
        },
        "id": "LfjqfhNXRlSV",
        "outputId": "b34f291c-a343-4b3c-d4ed-d7e89a1714ba"
      },
      "execution_count": 145,
      "outputs": [
        {
          "output_type": "stream",
          "name": "stdout",
          "text": [
            "4 / 5\n",
            "8 / 9\n"
          ]
        }
      ]
    },
    {
      "cell_type": "code",
      "source": [
        "c=a1.multiplica(a2)"
      ],
      "metadata": {
        "id": "INI6Xd1FS6Pd"
      },
      "execution_count": 146,
      "outputs": []
    },
    {
      "cell_type": "code",
      "source": [
        "c.imprime()"
      ],
      "metadata": {
        "colab": {
          "base_uri": "https://localhost:8080/"
        },
        "id": "uPvXxKuCTwPC",
        "outputId": "8d2ea7ae-aa78-4144-96a3-dd8e2f7c4934"
      },
      "execution_count": 147,
      "outputs": [
        {
          "output_type": "stream",
          "name": "stdout",
          "text": [
            "32 / 45\n"
          ]
        }
      ]
    },
    {
      "cell_type": "markdown",
      "source": [
        "##Suma"
      ],
      "metadata": {
        "id": "A2LIVo0ps3io"
      }
    },
    {
      "cell_type": "code",
      "source": [
        "d=a1.suma(a2)"
      ],
      "metadata": {
        "colab": {
          "base_uri": "https://localhost:8080/"
        },
        "id": "6tyN2d5E0L3b",
        "outputId": "17846be9-8181-4f4d-95df-208d5c572c70"
      },
      "execution_count": 148,
      "outputs": [
        {
          "output_type": "stream",
          "name": "stdout",
          "text": [
            "La suma entre: 4/5 y 8/9 es: 76/45\n"
          ]
        }
      ]
    },
    {
      "cell_type": "markdown",
      "source": [
        "##Resta"
      ],
      "metadata": {
        "id": "m3Sl1skt0g3S"
      }
    },
    {
      "cell_type": "code",
      "source": [
        "e=a1.resta(a2)"
      ],
      "metadata": {
        "colab": {
          "base_uri": "https://localhost:8080/"
        },
        "id": "TbCfysTy0gda",
        "outputId": "b35a94f9-1c14-4a7e-828e-f4e50ba22f08"
      },
      "execution_count": 149,
      "outputs": [
        {
          "output_type": "stream",
          "name": "stdout",
          "text": [
            "La resta entre: 4/5 y 8/9 es: -4/45\n"
          ]
        }
      ]
    },
    {
      "cell_type": "markdown",
      "source": [
        "##División"
      ],
      "metadata": {
        "id": "1VQsdMNi3Non"
      }
    },
    {
      "cell_type": "code",
      "source": [
        "f=a1.division(a2)"
      ],
      "metadata": {
        "colab": {
          "base_uri": "https://localhost:8080/"
        },
        "id": "aJrIXhko3O8n",
        "outputId": "78d5943a-b2c0-4ac9-e20f-18425f6a1b0b"
      },
      "execution_count": 150,
      "outputs": [
        {
          "output_type": "stream",
          "name": "stdout",
          "text": [
            "La división entre: 4/5 y 8/9 es: 36/40 = 0.9\n"
          ]
        }
      ]
    },
    {
      "cell_type": "markdown",
      "source": [
        "##Potencia"
      ],
      "metadata": {
        "id": "OVDX-fQO-_LG"
      }
    },
    {
      "cell_type": "code",
      "source": [
        "class Fraacion():\n",
        "  nume=0\n",
        "  deno=1\n",
        "  exp=0\n",
        "\n",
        "  def __init__(self, nume=0, deno=1,exp=0):\n",
        "    self.nume=nume\n",
        "    self.deno=deno\n",
        "    self.exp=exp\n",
        "  \n",
        "  def potencia(self,exp):\n",
        "    if self.deno==0:\n",
        "      print(\"Error: El denominador no puede ser igual a 0\")\n",
        "    else:\n",
        "      if self.exp>0:\n",
        "        nume=self.nume**self.exp\n",
        "        deno=self.deno**self.exp\n",
        "        \n",
        "      else:\n",
        "        nume=self.deno**self.exp\n",
        "        deno=self.nume**self.exp\n",
        "      re=Fraacion(nume,deno)\n",
        "      print(self.nume,\"/\",self.deno,\"=\",self.nume/self.deno)\n",
        "      return re\n"
      ],
      "metadata": {
        "id": "LNR_oBDx_AhX"
      },
      "execution_count": 228,
      "outputs": []
    },
    {
      "cell_type": "code",
      "source": [
        "aa1=Fraacion(5,6,-2)"
      ],
      "metadata": {
        "id": "tHhpug1v_y3u"
      },
      "execution_count": 226,
      "outputs": []
    },
    {
      "cell_type": "code",
      "source": [
        "g=aa1.potencia()"
      ],
      "metadata": {
        "colab": {
          "base_uri": "https://localhost:8080/"
        },
        "id": "RZGMTF9dAGI6",
        "outputId": "7bb70809-1ad5-4b6b-86a3-15be5d39fb66"
      },
      "execution_count": 227,
      "outputs": [
        {
          "output_type": "stream",
          "name": "stdout",
          "text": [
            "5 / 6 = 0.8333333333333334\n"
          ]
        }
      ]
    }
  ]
}