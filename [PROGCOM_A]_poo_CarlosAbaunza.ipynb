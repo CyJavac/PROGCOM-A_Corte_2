{
  "nbformat": 4,
  "nbformat_minor": 0,
  "metadata": {
    "colab": {
      "provenance": [],
      "collapsed_sections": []
    },
    "kernelspec": {
      "name": "python3",
      "display_name": "Python 3"
    },
    "language_info": {
      "name": "python"
    }
  },
  "cells": [
    {
      "cell_type": "markdown",
      "source": [
        "#POO o Programación orientada a objetos\n",
        "Clase es como un molde\n",
        "* Variables ==> Atributos\n",
        "* Fuciones ==> Métodos\n",
        "* Constructor ==> Constituye una clase\n",
        "* Objetos: Comparten atributos, métodos, relaciones, tienen identidad propia"
      ],
      "metadata": {
        "id": "D0xn3GGADfoB"
      }
    },
    {
      "cell_type": "code",
      "execution_count": 1,
      "metadata": {
        "id": "V-ISyHB1DNse"
      },
      "outputs": [],
      "source": [
        "class mascotas():\n",
        "  pass"
      ]
    },
    {
      "cell_type": "code",
      "source": [
        "a=mascotas\n",
        "b=mascotas"
      ],
      "metadata": {
        "id": "iPrFRke0E9Mo"
      },
      "execution_count": 2,
      "outputs": []
    },
    {
      "cell_type": "code",
      "source": [
        "if a==b:\n",
        "  print(\"Son iguanitos\")\n",
        "else:\n",
        "  print(\"No son iguanitos\")"
      ],
      "metadata": {
        "colab": {
          "base_uri": "https://localhost:8080/"
        },
        "id": "IKMkxMl6GZ-A",
        "outputId": "bd8c1c8e-0ed0-43be-e8f8-bbdee7e83996"
      },
      "execution_count": 3,
      "outputs": [
        {
          "output_type": "stream",
          "name": "stdout",
          "text": [
            "Son iguanitos\n"
          ]
        }
      ]
    },
    {
      "cell_type": "code",
      "source": [
        "class empleado:\n",
        "  #Construyendo un constructor\n",
        "  def __init__(self,nombre,edad,id,salario) -> None:\n",
        "    self.nombre=nombre\n",
        "    self.edad=edad\n",
        "    self.id=id\n",
        "    self.salario=salario\n",
        "\n",
        "  def __repr__(self) -> str:\n",
        "    return f\"nombre:{self.nombre}, edad:{self.edad}, id:{self.id}, salario:{self.salario}\""
      ],
      "metadata": {
        "id": "NeEbHF8-Gwqk"
      },
      "execution_count": 19,
      "outputs": []
    },
    {
      "cell_type": "code",
      "source": [
        "sonia=empleado(\"Sonia\",25,\"U002314\",10000000)"
      ],
      "metadata": {
        "id": "jBDguCxMHeiN"
      },
      "execution_count": 21,
      "outputs": []
    },
    {
      "cell_type": "code",
      "source": [
        "print(sonia.nombre)"
      ],
      "metadata": {
        "colab": {
          "base_uri": "https://localhost:8080/"
        },
        "id": "-HwI_ienH4dk",
        "outputId": "b610910a-905a-4c47-de9b-af501b9068ff"
      },
      "execution_count": 7,
      "outputs": [
        {
          "output_type": "stream",
          "name": "stdout",
          "text": [
            "Sonia\n"
          ]
        }
      ]
    },
    {
      "cell_type": "code",
      "source": [
        "sonia.__dict__"
      ],
      "metadata": {
        "colab": {
          "base_uri": "https://localhost:8080/"
        },
        "id": "CWtruRM3IaH0",
        "outputId": "19be06e0-cc09-4a4d-c262-10e2972e1061"
      },
      "execution_count": 13,
      "outputs": [
        {
          "output_type": "execute_result",
          "data": {
            "text/plain": [
              "{'nombre': 'Sonia', 'edad': 25, 'id': 'U002314', 'salario': 10000000}"
            ]
          },
          "metadata": {},
          "execution_count": 13
        }
      ]
    },
    {
      "cell_type": "code",
      "source": [
        "print(sonia)"
      ],
      "metadata": {
        "colab": {
          "base_uri": "https://localhost:8080/"
        },
        "id": "YcScrkLkKl_5",
        "outputId": "28f26161-5ca7-43b7-a2ef-1772ccedca86"
      },
      "execution_count": 22,
      "outputs": [
        {
          "output_type": "stream",
          "name": "stdout",
          "text": [
            "nombre:Sonia, edad:25, id:U002314, salario:10000000\n"
          ]
        }
      ]
    },
    {
      "cell_type": "code",
      "source": [
        "madaniel=empleado(\"Pirulais\",83,\"U466446\",10000)"
      ],
      "metadata": {
        "id": "Zsu9mhPPNux5"
      },
      "execution_count": 23,
      "outputs": []
    },
    {
      "cell_type": "code",
      "source": [
        "if sonia.salario==madaniel.salario:\n",
        "  print(f\"EL salario de {madaniel.nombre} y {sonia.nombre} son iguales.\")\n",
        "elif sonia.salario>madaniel.salario:\n",
        "  print(f\"EL salario de {sonia.nombre} es mayor al de {madaniel.nombre}.\")\n",
        "elif sonia.salario<madaniel.salario:\n",
        "  print(f\"EL salario de {madaniel.nombre} es mayor al de {sonia.nombre}.\")"
      ],
      "metadata": {
        "colab": {
          "base_uri": "https://localhost:8080/"
        },
        "id": "V-oJKnOpN7K_",
        "outputId": "01b36a6d-2726-43e1-a5bf-ec3b1bca48c4"
      },
      "execution_count": 25,
      "outputs": [
        {
          "output_type": "stream",
          "name": "stdout",
          "text": [
            "EL salario de Sonia es mayor al de Pirulais.\n"
          ]
        }
      ]
    },
    {
      "cell_type": "markdown",
      "source": [
        "#Trabajo: hacer una calculadora de fracciones."
      ],
      "metadata": {
        "id": "K8eqbef5PE_6"
      }
    },
    {
      "cell_type": "code",
      "source": [
        "class Fraccion:\n",
        "  #Atributos de clase\n",
        "  num=0\n",
        "  den=1\n",
        "\n",
        "  #Constructor\n",
        "  def __init__(self,num=0,den=1) -> None:\n",
        "    self.num=num\n",
        "    self.den=den\n",
        "\n",
        "  def multiplica(self,b):\n",
        "    num=self.num*b.num\n",
        "    den=self.den*b.den\n",
        "    r=Fraccion(num,den)\n",
        "    return r\n",
        "\n",
        "\n",
        "  def imprime(self):\n",
        "    print(self.num,\"/\",self.den)\n",
        "\n",
        "\n",
        "\n",
        "#Hacer suma, resta, división y potencia de fracciones prox class\n",
        "  "
      ],
      "metadata": {
        "id": "l0tVkMKuPEs6"
      },
      "execution_count": 38,
      "outputs": []
    },
    {
      "cell_type": "code",
      "source": [
        "#Creando objetos tipo Fracción\n",
        "a1=Fraccion(4,5)\n",
        "a2=Fraccion(8,9)\n"
      ],
      "metadata": {
        "id": "NlClPzO_RPTE"
      },
      "execution_count": 41,
      "outputs": []
    },
    {
      "cell_type": "code",
      "source": [
        "a1.imprime()\n",
        "a2.imprime()\n"
      ],
      "metadata": {
        "colab": {
          "base_uri": "https://localhost:8080/"
        },
        "id": "LfjqfhNXRlSV",
        "outputId": "53c75553-e5f8-4554-ae83-acaadd775ae2"
      },
      "execution_count": 42,
      "outputs": [
        {
          "output_type": "stream",
          "name": "stdout",
          "text": [
            "4 / 5\n",
            "8 / 9\n"
          ]
        }
      ]
    },
    {
      "cell_type": "code",
      "source": [
        "c=a1.multiplica(a2)"
      ],
      "metadata": {
        "id": "INI6Xd1FS6Pd"
      },
      "execution_count": 43,
      "outputs": []
    },
    {
      "cell_type": "code",
      "source": [
        "c.imprime()"
      ],
      "metadata": {
        "colab": {
          "base_uri": "https://localhost:8080/"
        },
        "id": "uPvXxKuCTwPC",
        "outputId": "def1b7cc-4b35-4286-db9e-268240966441"
      },
      "execution_count": 44,
      "outputs": [
        {
          "output_type": "stream",
          "name": "stdout",
          "text": [
            "32 / 45\n"
          ]
        }
      ]
    }
  ]
}